{
 "cells": [
  {
   "cell_type": "markdown",
   "metadata": {},
   "source": [
    "# Basics of mobile robotics [MICRO-452]  \n",
    "## Project report, EPFL Robotic Master, 12.12.21\n",
    "\n",
    "<img src=\"image/logo-epfl.png\" alt=\"Drawing\" style=\"width: 200px;\"/>\n",
    "\n",
    "Author: **Nour Tnani [296442], Xavier Nal [288275], Alicia Mauroux [274618], Antoine Perrin [283652]**"
   ]
  },
  {
   "cell_type": "markdown",
   "metadata": {},
   "source": [
    "## 0. Introduction\n",
    "Our project is to find a parking spot to our Thymio and to guide it to this spot using Global Navigation. We imagined it in a whole city like in this figure:\n",
    "<img src=\"image/map_multi.jpg\" alt=\"Drawing\" style=\"width: 200px;\"/>\n",
    "\n",
    "But for this project, we focused only on a part of the map like you can see in the figure2. Thymio will evolve on this map where there is two houses and four parking spots. Three of this spots are occupied and only one of them is free. There will be some \"dumb\" Thymio that will evolve in this map too, our Thymio have to avoid them, using Local Navigation. \n",
    "\n",
    "Here is our map:\n",
    "\n",
    "Figure2: Green = parking spots, Blue = obstacles, Black = \"dumb\" Thymio's path\n",
    "<img src=\"image/map.jpg\" alt=\"Drawing\" style=\"width: 400px;\"/>\n",
    "\n",
    "For this project, we chose to cut the work in 4 parts:\n",
    "- **Current goal update** [Global Navigation]\n",
    "- **Computer Vision and Kalman Filter** [Vision + Filtering]\n",
    "- **Following the logical path** [Motion Control]\n",
    "- **Local Navigation and Implementation of the \"Dumb\" Thymio** [Local Navigation + Motion Control]\n",
    "\n",
    "We individually worked on those and then added slowly one part with another and when the result was good, we added another part and so on. \n"
   ]
  },
  {
   "cell_type": "markdown",
   "metadata": {},
   "source": [
    "## 1. Initialization\n",
    "### Connection to Thymio and libraries\n",
    "The next cells will connect to Thymio and import all the libraries and the other folders that we will need"
   ]
  },
  {
   "cell_type": "code",
   "execution_count": 1,
   "metadata": {},
   "outputs": [
    {
     "ename": "CancelledError",
     "evalue": "",
     "output_type": "error",
     "traceback": [
      "\u001b[0;31m---------------------------------------------------------------------------\u001b[0m",
      "\u001b[0;31mCancelledError\u001b[0m                            Traceback (most recent call last)",
      "\u001b[0;32m/var/folders/r3/l17pxy9j13749mq5h96642rc0000gn/T/ipykernel_62373/2526995588.py\u001b[0m in \u001b[0;36m<module>\u001b[0;34m\u001b[0m\n\u001b[1;32m      1\u001b[0m \u001b[0;32mimport\u001b[0m \u001b[0mtdmclient\u001b[0m\u001b[0;34m.\u001b[0m\u001b[0mnotebook\u001b[0m\u001b[0;34m\u001b[0m\u001b[0;34m\u001b[0m\u001b[0m\n\u001b[0;32m----> 2\u001b[0;31m \u001b[0;32mawait\u001b[0m \u001b[0mtdmclient\u001b[0m\u001b[0;34m.\u001b[0m\u001b[0mnotebook\u001b[0m\u001b[0;34m.\u001b[0m\u001b[0mstart\u001b[0m\u001b[0;34m(\u001b[0m\u001b[0;34m)\u001b[0m\u001b[0;34m\u001b[0m\u001b[0;34m\u001b[0m\u001b[0m\n\u001b[0m",
      "\u001b[0;32m/Library/Frameworks/Python.framework/Versions/3.9/lib/python3.9/site-packages/tdmclient/notebook/__init__.py\u001b[0m in \u001b[0;36mstart\u001b[0;34m(tdm_addr, tdm_port, **kwargs)\u001b[0m\n\u001b[1;32m     24\u001b[0m \u001b[0;34m\u001b[0m\u001b[0m\n\u001b[1;32m     25\u001b[0m     \u001b[0mclient\u001b[0m \u001b[0;34m=\u001b[0m \u001b[0mClientAsync\u001b[0m\u001b[0;34m(\u001b[0m\u001b[0mtdm_addr\u001b[0m\u001b[0;34m=\u001b[0m\u001b[0mtdm_addr\u001b[0m\u001b[0;34m,\u001b[0m \u001b[0mtdm_port\u001b[0m\u001b[0;34m=\u001b[0m\u001b[0mtdm_port\u001b[0m\u001b[0;34m)\u001b[0m\u001b[0;34m\u001b[0m\u001b[0;34m\u001b[0m\u001b[0m\n\u001b[0;32m---> 26\u001b[0;31m     \u001b[0mnode\u001b[0m \u001b[0;34m=\u001b[0m \u001b[0;32mawait\u001b[0m \u001b[0mclient\u001b[0m\u001b[0;34m.\u001b[0m\u001b[0mwait_for_node\u001b[0m\u001b[0;34m(\u001b[0m\u001b[0;34m**\u001b[0m\u001b[0mkwargs\u001b[0m\u001b[0;34m)\u001b[0m\u001b[0;34m\u001b[0m\u001b[0;34m\u001b[0m\u001b[0m\n\u001b[0m\u001b[1;32m     27\u001b[0m     \u001b[0;32mawait\u001b[0m \u001b[0mnode\u001b[0m\u001b[0;34m.\u001b[0m\u001b[0mlock\u001b[0m\u001b[0;34m(\u001b[0m\u001b[0;34m)\u001b[0m\u001b[0;34m\u001b[0m\u001b[0;34m\u001b[0m\u001b[0m\n\u001b[1;32m     28\u001b[0m \u001b[0;34m\u001b[0m\u001b[0m\n",
      "\u001b[0;32m/Library/Frameworks/Python.framework/Versions/3.9/lib/python3.9/site-packages/tdmclient/clientasync.py\u001b[0m in \u001b[0;36mwait_for_node\u001b[0;34m(self, **kwargs)\u001b[0m\n\u001b[1;32m     58\u001b[0m             \u001b[0;32melse\u001b[0m\u001b[0;34m:\u001b[0m\u001b[0;34m\u001b[0m\u001b[0;34m\u001b[0m\u001b[0m\n\u001b[1;32m     59\u001b[0m                 \u001b[0msleep\u001b[0m\u001b[0;34m(\u001b[0m\u001b[0mself\u001b[0m\u001b[0;34m.\u001b[0m\u001b[0mDEFAULT_SLEEP\u001b[0m\u001b[0;34m)\u001b[0m\u001b[0;34m\u001b[0m\u001b[0;34m\u001b[0m\u001b[0m\n\u001b[0;32m---> 60\u001b[0;31m             \u001b[0;32myield\u001b[0m\u001b[0;34m\u001b[0m\u001b[0;34m\u001b[0m\u001b[0m\n\u001b[0m\u001b[1;32m     61\u001b[0m \u001b[0;34m\u001b[0m\u001b[0m\n\u001b[1;32m     62\u001b[0m     \u001b[0;34m@\u001b[0m\u001b[0mtypes\u001b[0m\u001b[0;34m.\u001b[0m\u001b[0mcoroutine\u001b[0m\u001b[0;34m\u001b[0m\u001b[0;34m\u001b[0m\u001b[0m\n",
      "\u001b[0;31mCancelledError\u001b[0m: "
     ]
    }
   ],
   "source": [
    "import tdmclient.notebook\n",
    "await tdmclient.notebook.start()"
   ]
  },
  {
   "cell_type": "code",
   "execution_count": 2,
   "metadata": {},
   "outputs": [],
   "source": [
    "import cv2"
   ]
  },
  {
   "cell_type": "code",
   "execution_count": 1,
   "metadata": {},
   "outputs": [
    {
     "ename": "AttributeError",
     "evalue": "module 'tdmclient' has no attribute 'notebook'",
     "output_type": "error",
     "traceback": [
      "\u001b[0;31m---------------------------------------------------------------------------\u001b[0m",
      "\u001b[0;31mAttributeError\u001b[0m                            Traceback (most recent call last)",
      "\u001b[0;32m/var/folders/w4/rlzv9syd0416nt9tchvspk1m0000gn/T/ipykernel_88413/1223610523.py\u001b[0m in \u001b[0;36m<module>\u001b[0;34m\u001b[0m\n\u001b[1;32m     12\u001b[0m \u001b[0;32mfrom\u001b[0m \u001b[0mrobot\u001b[0m \u001b[0;32mimport\u001b[0m \u001b[0mRobot\u001b[0m\u001b[0;34m\u001b[0m\u001b[0;34m\u001b[0m\u001b[0m\n\u001b[1;32m     13\u001b[0m \u001b[0;32mfrom\u001b[0m \u001b[0mMap\u001b[0m \u001b[0;32mimport\u001b[0m \u001b[0mMap\u001b[0m\u001b[0;34m\u001b[0m\u001b[0;34m\u001b[0m\u001b[0m\n\u001b[0;32m---> 14\u001b[0;31m \u001b[0;32mfrom\u001b[0m \u001b[0mLocal_navigation\u001b[0m \u001b[0;32mimport\u001b[0m\u001b[0;34m*\u001b[0m\u001b[0;34m\u001b[0m\u001b[0;34m\u001b[0m\u001b[0m\n\u001b[0m\u001b[1;32m     15\u001b[0m \u001b[0;32mfrom\u001b[0m \u001b[0mMouvement\u001b[0m \u001b[0;32mimport\u001b[0m\u001b[0;34m*\u001b[0m\u001b[0;34m\u001b[0m\u001b[0;34m\u001b[0m\u001b[0m\n\u001b[1;32m     16\u001b[0m \u001b[0;32mfrom\u001b[0m \u001b[0mvision\u001b[0m \u001b[0;32mimport\u001b[0m\u001b[0;34m*\u001b[0m\u001b[0;34m\u001b[0m\u001b[0;34m\u001b[0m\u001b[0m\n",
      "\u001b[0;32m~/ Mes Documents/EPFL/_Master/MA1/Basics of mobile robotics [MICRO-452]/Project/Mobile_robot/Local_navigation.py\u001b[0m in \u001b[0;36m<module>\u001b[0;34m\u001b[0m\n\u001b[1;32m     18\u001b[0m \u001b[0;31m#LEDS Control\u001b[0m\u001b[0;34m\u001b[0m\u001b[0;34m\u001b[0m\u001b[0;34m\u001b[0m\u001b[0m\n\u001b[1;32m     19\u001b[0m \u001b[0;34m\u001b[0m\u001b[0m\n\u001b[0;32m---> 20\u001b[0;31m \u001b[0;34m@\u001b[0m\u001b[0mtdmclient\u001b[0m\u001b[0;34m.\u001b[0m\u001b[0mnotebook\u001b[0m\u001b[0;34m.\u001b[0m\u001b[0msync_var\u001b[0m\u001b[0;34m\u001b[0m\u001b[0;34m\u001b[0m\u001b[0m\n\u001b[0m\u001b[1;32m     21\u001b[0m \u001b[0;32mdef\u001b[0m \u001b[0mlight_em_up\u001b[0m\u001b[0;34m(\u001b[0m\u001b[0mavoid\u001b[0m\u001b[0;34m=\u001b[0m\u001b[0;36m0\u001b[0m\u001b[0;34m,\u001b[0m\u001b[0mright\u001b[0m\u001b[0;34m=\u001b[0m\u001b[0;36m0\u001b[0m\u001b[0;34m,\u001b[0m\u001b[0mwait\u001b[0m\u001b[0;34m=\u001b[0m\u001b[0;36m0\u001b[0m\u001b[0;34m)\u001b[0m\u001b[0;34m:\u001b[0m\u001b[0;34m\u001b[0m\u001b[0;34m\u001b[0m\u001b[0m\n\u001b[1;32m     22\u001b[0m     \u001b[0;32mglobal\u001b[0m \u001b[0mleds_top\u001b[0m\u001b[0;34m,\u001b[0m \u001b[0mleds_buttons\u001b[0m\u001b[0;34m,\u001b[0m \u001b[0mleds_circle\u001b[0m\u001b[0;34m\u001b[0m\u001b[0;34m\u001b[0m\u001b[0m\n",
      "\u001b[0;31mAttributeError\u001b[0m: module 'tdmclient' has no attribute 'notebook'"
     ]
    }
   ],
   "source": [
    "import math\n",
    "\n",
    "import numpy as np\n",
    "import matplotlib.pyplot as plt\n",
    "from numpy.core.fromnumeric import size\n",
    "from matplotlib import colors\n",
    "#TO VERIFY IF WE STILL NEED THIS ONE!!!\n",
    "from asgiref.sync import sync_to_async #in order to load variables to communicate between sync and async\n",
    "\n",
    "import optimal_path as op\n",
    "\n",
    "from robot import Robot\n",
    "from Map import Map\n",
    "from Local_navigation import* \n",
    "from Mouvement import*\n",
    "from vision import* \n",
    "from optimal_path import* \n",
    "from KalmanFilter import KalmanFilter\n",
    "\n"
   ]
  },
  {
   "cell_type": "markdown",
   "metadata": {},
   "source": [
    "### Variables and constants\n"
   ]
  },
  {
   "cell_type": "code",
   "execution_count": 4,
   "metadata": {},
   "outputs": [],
   "source": [
    "#Initialize the initial grid and position\n",
    "#start , goal , grid = \"init_map\"\n",
    "#start_pos = (0,0)\n",
    "#goal = (43,33)\n",
    "map_lenght = 5\n",
    "nb_of_square_by_side = 50\n",
    "current = 1\n",
    "\n",
    "#variables\n",
    "global motor_left_target, motor_right_target\n",
    "\n"
   ]
  },
  {
   "cell_type": "markdown",
   "metadata": {},
   "source": [
    "## 2. Useful functions\n",
    "Functions in order to use Thymio's actuators and sensors easily"
   ]
  },
  {
   "cell_type": "code",
   "execution_count": 5,
   "metadata": {},
   "outputs": [],
   "source": [
    "@tdmclient.notebook.sync_var\n",
    "def motors(l_speed=500, r_speed=500, verbose=False):\n",
    "    \"\"\"\n",
    "    Sets the motor speeds of the Thymio \n",
    "    param l_speed: left motor speed\n",
    "    param r_speed: right motor speed\n",
    "    param verbose: whether to print status messages or not\n",
    "    \"\"\"\n",
    "    global motor_left_target, motor_right_target\n",
    "    # Printing the speeds if requested\n",
    "    if verbose:\n",
    "        print(\"\\t\\t Setting speed : \", l_speed, r_speed)\n",
    "    motor_left_target = l_speed\n",
    "    motor_right_target = r_speed"
   ]
  },
  {
   "cell_type": "code",
   "execution_count": 6,
   "metadata": {},
   "outputs": [],
   "source": [
    "@tdmclient.notebook.sync_var\n",
    "def proxi():\n",
    "    \"\"\"\n",
    "    Returns the proximity values of the Thymio \n",
    "    \"\"\"\n",
    "    global prox_horizontal\n",
    "    return prox_horizontal"
   ]
  },
  {
   "cell_type": "markdown",
   "metadata": {},
   "source": [
    "## 3. Current goal update\n",
    "To be completed by Antoine\n",
    "\n",
    "Sections that go into a bit more detail regarding the implementation and are accompanied by the code required to\n",
    "execute the different modules independently. What is important is not to simply describe the code, which should\n",
    "be readable, but describe what is not in the code: the theory behind, the choices made, the measurements, the\n",
    "choice of parameters etc. Do not forget to cite your sources ! You can of course show how certain modules work in\n",
    "simulation here, or with pre-recorded data. "
   ]
  },
  {
   "cell_type": "markdown",
   "metadata": {},
   "source": [
    "Next cell is to create an instance Robot and Map \n",
    "  "
   ]
  },
  {
   "cell_type": "code",
   "execution_count": null,
   "metadata": {},
   "outputs": [],
   "source": [
    "global move \n",
    "move = False #bool which indicate how our robot is moving (1: avoid an object VS 0: following the optimal path)\n",
    "kalman_bool = False\n",
    "#pourcentage_reduc = 1"
   ]
  },
  {
   "cell_type": "code",
   "execution_count": 7,
   "metadata": {},
   "outputs": [],
   "source": [
    "George = Robot()\n",
    "# nb_of_square_by_side is the nb square that we want regarding x\n",
    "Lausanne = Map(map_lenght, nb_of_square_by_side)\n",
    "KF=KalmanFilter(0.1, [0, 0])"
   ]
  },
  {
   "cell_type": "code",
   "execution_count": null,
   "metadata": {},
   "outputs": [],
   "source": [
    "#VideoCap = vision_initialization()\n",
    "VideoCap=cv2.VideoCapture(0)\n",
    "\n",
    "print('Hello World')\n"
   ]
  },
  {
   "cell_type": "markdown",
   "metadata": {},
   "source": [
    "Init part\n",
    "Global control \n",
    "\n",
    "--> Optimal path calculation"
   ]
  },
  {
   "cell_type": "code",
   "execution_count": 4,
   "metadata": {},
   "outputs": [
    {
     "data": {
      "text/plain": [
       "1"
      ]
     },
     "execution_count": 4,
     "metadata": {},
     "output_type": "execute_result"
    }
   ],
   "source": [
    "# Prend une première image\n",
    "ret, frame=VideoCap.read()\n",
    "\n",
    "# Set the pourcentage value between the nb of pixel and nb of square by side\n",
    "Lausanne.set_pourcentage(frame)\n",
    "\n",
    "# Set the robot goal, position and angle\n",
    "goal = init_goal(frame, Lausanne.get_pourcentage())\n",
    "pos_robot = George.get_pos()\n",
    "while pos_robot < 0:\n",
    "    pos_robot, angle = update(frame, Lausanne.get_pourcentage())  # fonction qui retourne la position angle etc....\n",
    "\n",
    "George.set_angle(angle)\n",
    "George.set_goal(goal)\n",
    "George.set_start_pos(pos_robot)\n",
    "George.set_pos(pos_robot)\n",
    "print (\"goal\", goal)\n",
    "print (\"position\", )\n",
    "\n",
    "\n",
    "mask = mask_map_init(frame)\n",
    "cv2.imshow(\"mask\", mask)\n",
    "\n",
    "Lausanne.init_grid(mask)\n",
    "\n",
    "# affiche la grille\n",
    "cv2.imshow(\"final secure grid\", Lausanne.get_map())\n",
    "\n",
    "\n",
    "\n",
    "######\n",
    "# Compute the optimal path and visited nodes\n",
    "path, visitedNodes = op.path_computation(George.get_start() , George.get_goal() , Lausanne.get_lenght(), Lausanne.get_map())\n",
    "\n",
    "George.set_path(path) \n",
    "George.set_visit_nodes(visitedNodes) \n",
    "\n",
    "# Display the optimal path\n",
    "op.display_map(Lausanne.get_lenght(),  Lausanne.get_map(),  George.get_visit_nodes(), George.get_path(), George.get_start(), George.get_goal())"
   ]
  },
  {
   "cell_type": "markdown",
   "metadata": {},
   "source": [
    "## 4. Vision\n",
    "To be completed by Xavier\n",
    "\n",
    "Sections that go into a bit more detail regarding the implementation and are accompanied by the code required to\n",
    "execute the different modules independently. What is important is not to simply describe the code, which should\n",
    "be readable, but describe what is not in the code: the theory behind, the choices made, the measurements, the\n",
    "choice of parameters etc. Do not forget to cite your sources ! You can of course show how certain modules work in\n",
    "simulation here, or with pre-recorded data. "
   ]
  },
  {
   "cell_type": "markdown",
   "metadata": {},
   "source": [
    "## 5. To follow the logical path\n",
    "\n",
    "\n",
    "The function takes continuously as parameters the position of the robot and its angle which are given by the Vision module. The angle is in the range of [-pi, pi]. It also takes as parameters the continuously updated goals that are given by the Optimal Path module.\n",
    "\n",
    "We implement a function that computes the error in position (which is the distance between the goal and the robot) and the error in angle (We are inspired by the function described in https://stackoverflow.com/questions/2827393/angles-between-two-n-dimensional-vectors-in-python to determine the angle of the goal. We changed it to be optimal to the variation we want from the robot (all explained in the comments)).\n",
    "\n",
    "As the angle is computed as a difference between the goal and the robot, if it's positif, then the robot should turn to the left, and if it's negatif, it should turn to the right, which is why we substract the angular error from the right motor speed, and add it to the left motor speed. \n",
    "\n",
    "In a more general way, the function \"move_to_position\" implements a PD (Proportionnal Derivative Controller), by adding a certain speed computed via the remaining distance (multiplied by an experimental coefficient) and adding/substracting an angular speed (multiplied by another experimental coefficient) to the motor's speed. These are added to some basic speed, because otherwise the speed of the robot will be almost zero when it reaches the updated goals. \n"
   ]
  },
  {
   "cell_type": "markdown",
   "metadata": {},
   "source": [
    "## 6. Local Navigation\n",
    "To be completed by me\n",
    "\n",
    "Sections that go into a bit more detail regarding the implementation and are accompanied by the code required to\n",
    "execute the different modules independently. What is important is not to simply describe the code, which should\n",
    "be readable, but describe what is not in the code: the theory behind, the choices made, the measurements, the\n",
    "choice of parameters etc. Do not forget to cite your sources ! You can of course show how certain modules work in\n",
    "simulation here, or with pre-recorded data. "
   ]
  },
  {
   "cell_type": "markdown",
   "metadata": {},
   "source": [
    "## 7. Main loop\n",
    "\n",
    "A section which is used to run the overall project and where we can see the path chosen, where the system\n",
    "believes the robot is along the path before and after filtering etc… This can also be done in a .py file if you prefer.\n",
    "Just make sure to reference it in the report so we can easily have a look at it. "
   ]
  },
  {
   "cell_type": "code",
   "execution_count": 7,
   "metadata": {},
   "outputs": [
    {
     "name": "stdout",
     "output_type": "stream",
     "text": [
      "Hello World\n",
      "while start\n",
      "position 0 0 0\n",
      "0 0\n",
      "debut 0 0 0\n",
      "dist_debut 302.89932320822373\n",
      "v 605.7986464164475\n",
      "w 41.803931990020935\n",
      "speed, 41 -41\n",
      "41 -41\n",
      "position 0 0 0\n",
      "0 0\n",
      "debut 0 0 0\n",
      "dist_debut 302.89932320822373\n",
      "v 605.7986464164475\n",
      "w 41.803931990020935\n",
      "speed, 41 -41\n",
      "41 -41\n"
     ]
    },
    {
     "ename": "UnicodeDecodeError",
     "evalue": "'utf-8' codec can't decode byte 0xe9 in position 1: invalid continuation byte",
     "output_type": "error",
     "traceback": [
      "\u001b[1;31m---------------------------------------------------------------------------\u001b[0m",
      "\u001b[1;31mUnicodeDecodeError\u001b[0m                        Traceback (most recent call last)",
      "\u001b[1;32m~\\AppData\\Local\\Temp/ipykernel_26540/2625117252.py\u001b[0m in \u001b[0;36m<module>\u001b[1;34m\u001b[0m\n\u001b[0;32m     42\u001b[0m \u001b[1;33m\u001b[0m\u001b[0m\n\u001b[0;32m     43\u001b[0m     \u001b[0mmotors\u001b[0m\u001b[1;33m(\u001b[0m\u001b[0mspeed_l\u001b[0m\u001b[1;33m,\u001b[0m \u001b[0mspeed_r\u001b[0m\u001b[1;33m)\u001b[0m\u001b[1;33m\u001b[0m\u001b[1;33m\u001b[0m\u001b[0m\n\u001b[1;32m---> 44\u001b[1;33m     \u001b[0msleep\u001b[0m\u001b[1;33m(\u001b[0m\u001b[1;36m10\u001b[0m\u001b[1;33m)\u001b[0m\u001b[1;33m\u001b[0m\u001b[1;33m\u001b[0m\u001b[0m\n\u001b[0m\u001b[0;32m     45\u001b[0m \u001b[1;33m\u001b[0m\u001b[0m\n\u001b[0;32m     46\u001b[0m     \u001b[1;31m#led_arrivé\u001b[0m\u001b[1;33m\u001b[0m\u001b[1;33m\u001b[0m\u001b[0m\n",
      "\u001b[1;32m~\\AppData\\Local\\Programs\\Python\\Python310\\lib\\site-packages\\tdmclient\\repl.py\u001b[0m in \u001b[0;36msleep\u001b[1;34m(t)\u001b[0m\n\u001b[0;32m     57\u001b[0m \u001b[1;33m\u001b[0m\u001b[0m\n\u001b[0;32m     58\u001b[0m             \u001b[1;31m# wait\u001b[0m\u001b[1;33m\u001b[0m\u001b[1;33m\u001b[0m\u001b[0m\n\u001b[1;32m---> 59\u001b[1;33m             \u001b[0mClientAsync\u001b[0m\u001b[1;33m.\u001b[0m\u001b[0maw\u001b[0m\u001b[1;33m(\u001b[0m\u001b[0mself\u001b[0m\u001b[1;33m.\u001b[0m\u001b[0mclient\u001b[0m\u001b[1;33m.\u001b[0m\u001b[0msleep\u001b[0m\u001b[1;33m(\u001b[0m\u001b[0mt\u001b[0m\u001b[1;33m)\u001b[0m\u001b[1;33m)\u001b[0m\u001b[1;33m\u001b[0m\u001b[1;33m\u001b[0m\u001b[0m\n\u001b[0m\u001b[0;32m     60\u001b[0m \u001b[1;33m\u001b[0m\u001b[0m\n\u001b[0;32m     61\u001b[0m             \u001b[1;31m# fetch all variables which might be used\u001b[0m\u001b[1;33m\u001b[0m\u001b[1;33m\u001b[0m\u001b[0m\n",
      "\u001b[1;32m~\\AppData\\Local\\Programs\\Python\\Python310\\lib\\site-packages\\tdmclient\\clientasync.py\u001b[0m in \u001b[0;36maw\u001b[1;34m(co)\u001b[0m\n\u001b[0;32m    166\u001b[0m             \u001b[0mr\u001b[0m \u001b[1;33m=\u001b[0m \u001b[1;32mawait\u001b[0m \u001b[0mco\u001b[0m\u001b[1;33m\u001b[0m\u001b[1;33m\u001b[0m\u001b[0m\n\u001b[0;32m    167\u001b[0m \u001b[1;33m\u001b[0m\u001b[0m\n\u001b[1;32m--> 168\u001b[1;33m         \u001b[0mClientAsync\u001b[0m\u001b[1;33m.\u001b[0m\u001b[0mrun_async_program\u001b[0m\u001b[1;33m(\u001b[0m\u001b[0mprog\u001b[0m\u001b[1;33m)\u001b[0m\u001b[1;33m\u001b[0m\u001b[1;33m\u001b[0m\u001b[0m\n\u001b[0m\u001b[0;32m    169\u001b[0m         \u001b[1;32mreturn\u001b[0m \u001b[0mr\u001b[0m\u001b[1;33m\u001b[0m\u001b[1;33m\u001b[0m\u001b[0m\n",
      "\u001b[1;32m~\\AppData\\Local\\Programs\\Python\\Python310\\lib\\site-packages\\tdmclient\\clientasync.py\u001b[0m in \u001b[0;36mrun_async_program\u001b[1;34m(prog)\u001b[0m\n\u001b[0;32m    151\u001b[0m         \u001b[1;32mtry\u001b[0m\u001b[1;33m:\u001b[0m\u001b[1;33m\u001b[0m\u001b[1;33m\u001b[0m\u001b[0m\n\u001b[0;32m    152\u001b[0m             \u001b[1;32mwhile\u001b[0m \u001b[1;32mTrue\u001b[0m\u001b[1;33m:\u001b[0m\u001b[1;33m\u001b[0m\u001b[1;33m\u001b[0m\u001b[0m\n\u001b[1;32m--> 153\u001b[1;33m                 \u001b[0mco\u001b[0m\u001b[1;33m.\u001b[0m\u001b[0msend\u001b[0m\u001b[1;33m(\u001b[0m\u001b[1;32mNone\u001b[0m\u001b[1;33m)\u001b[0m\u001b[1;33m\u001b[0m\u001b[1;33m\u001b[0m\u001b[0m\n\u001b[0m\u001b[0;32m    154\u001b[0m         \u001b[1;32mexcept\u001b[0m \u001b[0mStopIteration\u001b[0m\u001b[1;33m:\u001b[0m\u001b[1;33m\u001b[0m\u001b[1;33m\u001b[0m\u001b[0m\n\u001b[0;32m    155\u001b[0m             \u001b[1;32mpass\u001b[0m\u001b[1;33m\u001b[0m\u001b[1;33m\u001b[0m\u001b[0m\n",
      "\u001b[1;32m~\\AppData\\Local\\Programs\\Python\\Python310\\lib\\site-packages\\tdmclient\\clientasync.py\u001b[0m in \u001b[0;36mprog\u001b[1;34m()\u001b[0m\n\u001b[0;32m    164\u001b[0m         \u001b[1;32masync\u001b[0m \u001b[1;32mdef\u001b[0m \u001b[0mprog\u001b[0m\u001b[1;33m(\u001b[0m\u001b[1;33m)\u001b[0m\u001b[1;33m:\u001b[0m\u001b[1;33m\u001b[0m\u001b[1;33m\u001b[0m\u001b[0m\n\u001b[0;32m    165\u001b[0m             \u001b[1;32mnonlocal\u001b[0m \u001b[0mr\u001b[0m\u001b[1;33m\u001b[0m\u001b[1;33m\u001b[0m\u001b[0m\n\u001b[1;32m--> 166\u001b[1;33m             \u001b[0mr\u001b[0m \u001b[1;33m=\u001b[0m \u001b[1;32mawait\u001b[0m \u001b[0mco\u001b[0m\u001b[1;33m\u001b[0m\u001b[1;33m\u001b[0m\u001b[0m\n\u001b[0m\u001b[0;32m    167\u001b[0m \u001b[1;33m\u001b[0m\u001b[0m\n\u001b[0;32m    168\u001b[0m         \u001b[0mClientAsync\u001b[0m\u001b[1;33m.\u001b[0m\u001b[0mrun_async_program\u001b[0m\u001b[1;33m(\u001b[0m\u001b[0mprog\u001b[0m\u001b[1;33m)\u001b[0m\u001b[1;33m\u001b[0m\u001b[1;33m\u001b[0m\u001b[0m\n",
      "\u001b[1;32m~\\AppData\\Local\\Programs\\Python\\Python310\\lib\\site-packages\\tdmclient\\clientasync.py\u001b[0m in \u001b[0;36msleep\u001b[1;34m(self, duration, wake)\u001b[0m\n\u001b[0;32m     40\u001b[0m         \u001b[0mt0\u001b[0m \u001b[1;33m=\u001b[0m \u001b[0mmonotonic\u001b[0m\u001b[1;33m(\u001b[0m\u001b[1;33m)\u001b[0m\u001b[1;33m\u001b[0m\u001b[1;33m\u001b[0m\u001b[0m\n\u001b[0;32m     41\u001b[0m         \u001b[1;32mwhile\u001b[0m \u001b[0mduration\u001b[0m \u001b[1;33m<\u001b[0m \u001b[1;36m0\u001b[0m \u001b[1;32mor\u001b[0m \u001b[0mmonotonic\u001b[0m\u001b[1;33m(\u001b[0m\u001b[1;33m)\u001b[0m \u001b[1;33m<\u001b[0m \u001b[0mt0\u001b[0m \u001b[1;33m+\u001b[0m \u001b[0mduration\u001b[0m\u001b[1;33m:\u001b[0m\u001b[1;33m\u001b[0m\u001b[1;33m\u001b[0m\u001b[0m\n\u001b[1;32m---> 42\u001b[1;33m             \u001b[0mself\u001b[0m\u001b[1;33m.\u001b[0m\u001b[0mprocess_waiting_messages\u001b[0m\u001b[1;33m(\u001b[0m\u001b[1;33m)\u001b[0m\u001b[1;33m\u001b[0m\u001b[1;33m\u001b[0m\u001b[0m\n\u001b[0m\u001b[0;32m     43\u001b[0m             sleep(self.DEFAULT_SLEEP\n\u001b[0;32m     44\u001b[0m                   \u001b[1;32mif\u001b[0m \u001b[0mduration\u001b[0m \u001b[1;33m<\u001b[0m \u001b[1;36m0\u001b[0m\u001b[1;33m\u001b[0m\u001b[1;33m\u001b[0m\u001b[0m\n",
      "\u001b[1;32m~\\AppData\\Local\\Programs\\Python\\Python310\\lib\\site-packages\\tdmclient\\client.py\u001b[0m in \u001b[0;36mprocess_waiting_messages\u001b[1;34m(self)\u001b[0m\n\u001b[0;32m    128\u001b[0m                 \u001b[1;32mif\u001b[0m \u001b[0mself\u001b[0m\u001b[1;33m.\u001b[0m\u001b[0mdebug\u001b[0m \u001b[1;33m>=\u001b[0m \u001b[1;36m3\u001b[0m\u001b[1;33m:\u001b[0m\u001b[1;33m\u001b[0m\u001b[1;33m\u001b[0m\u001b[0m\n\u001b[0;32m    129\u001b[0m                     \u001b[0mprint\u001b[0m\u001b[1;33m(\u001b[0m\u001b[1;34m\"recv\"\u001b[0m\u001b[1;33m,\u001b[0m \u001b[0mmsg\u001b[0m\u001b[1;33m)\u001b[0m\u001b[1;33m\u001b[0m\u001b[1;33m\u001b[0m\u001b[0m\n\u001b[1;32m--> 130\u001b[1;33m                 \u001b[0mself\u001b[0m\u001b[1;33m.\u001b[0m\u001b[0mprocess_message\u001b[0m\u001b[1;33m(\u001b[0m\u001b[0mmsg\u001b[0m\u001b[1;33m)\u001b[0m\u001b[1;33m\u001b[0m\u001b[1;33m\u001b[0m\u001b[0m\n\u001b[0m\u001b[0;32m    131\u001b[0m                 \u001b[0mat_least_one\u001b[0m \u001b[1;33m=\u001b[0m \u001b[1;32mTrue\u001b[0m\u001b[1;33m\u001b[0m\u001b[1;33m\u001b[0m\u001b[0m\n\u001b[0;32m    132\u001b[0m         \u001b[1;32mreturn\u001b[0m \u001b[0mat_least_one\u001b[0m\u001b[1;33m\u001b[0m\u001b[1;33m\u001b[0m\u001b[0m\n",
      "\u001b[1;32m~\\AppData\\Local\\Programs\\Python\\Python310\\lib\\site-packages\\tdmclient\\thymio.py\u001b[0m in \u001b[0;36mprocess_message\u001b[1;34m(self, msg)\u001b[0m\n\u001b[0;32m    583\u001b[0m \u001b[1;33m\u001b[0m\u001b[0m\n\u001b[0;32m    584\u001b[0m         \u001b[0mfb\u001b[0m \u001b[1;33m=\u001b[0m \u001b[0mFlatBuffer\u001b[0m\u001b[1;33m(\u001b[0m\u001b[1;33m)\u001b[0m\u001b[1;33m\u001b[0m\u001b[1;33m\u001b[0m\u001b[0m\n\u001b[1;32m--> 585\u001b[1;33m         \u001b[0mfb\u001b[0m\u001b[1;33m.\u001b[0m\u001b[0mparse\u001b[0m\u001b[1;33m(\u001b[0m\u001b[0mmsg\u001b[0m\u001b[1;33m,\u001b[0m \u001b[0mThymioFB\u001b[0m\u001b[1;33m.\u001b[0m\u001b[0mSCHEMA\u001b[0m\u001b[1;33m)\u001b[0m\u001b[1;33m\u001b[0m\u001b[1;33m\u001b[0m\u001b[0m\n\u001b[0m\u001b[0;32m    586\u001b[0m         \u001b[1;32mif\u001b[0m \u001b[0mself\u001b[0m\u001b[1;33m.\u001b[0m\u001b[0mdebug\u001b[0m \u001b[1;33m>=\u001b[0m \u001b[1;36m2\u001b[0m\u001b[1;33m:\u001b[0m\u001b[1;33m\u001b[0m\u001b[1;33m\u001b[0m\u001b[0m\n\u001b[0;32m    587\u001b[0m             \u001b[0mfb\u001b[0m\u001b[1;33m.\u001b[0m\u001b[0mdump\u001b[0m\u001b[1;33m(\u001b[0m\u001b[1;33m)\u001b[0m\u001b[1;33m\u001b[0m\u001b[1;33m\u001b[0m\u001b[0m\n",
      "\u001b[1;32m~\\AppData\\Local\\Programs\\Python\\Python310\\lib\\site-packages\\tdmclient\\fb.py\u001b[0m in \u001b[0;36mparse\u001b[1;34m(self, encoded_fb, schema)\u001b[0m\n\u001b[0;32m    164\u001b[0m         \u001b[1;32mif\u001b[0m \u001b[0mschema\u001b[0m\u001b[1;33m[\u001b[0m\u001b[1;36m0\u001b[0m\u001b[1;33m]\u001b[0m \u001b[1;32mnot\u001b[0m \u001b[1;32min\u001b[0m \u001b[1;34m\"TU\"\u001b[0m\u001b[1;33m:\u001b[0m\u001b[1;33m\u001b[0m\u001b[1;33m\u001b[0m\u001b[0m\n\u001b[0;32m    165\u001b[0m             \u001b[1;32mraise\u001b[0m \u001b[0mException\u001b[0m\u001b[1;33m(\u001b[0m\u001b[1;34m\"unexpected schema\"\u001b[0m\u001b[1;33m)\u001b[0m\u001b[1;33m\u001b[0m\u001b[1;33m\u001b[0m\u001b[0m\n\u001b[1;32m--> 166\u001b[1;33m         \u001b[0mself\u001b[0m\u001b[1;33m.\u001b[0m\u001b[0mroot\u001b[0m \u001b[1;33m=\u001b[0m \u001b[0mFlatBuffer\u001b[0m\u001b[1;33m.\u001b[0m\u001b[0mparse_value\u001b[0m\u001b[1;33m(\u001b[0m\u001b[0mencoded_fb\u001b[0m\u001b[1;33m,\u001b[0m \u001b[1;36m0\u001b[0m\u001b[1;33m,\u001b[0m \u001b[0mschema\u001b[0m\u001b[1;33m)\u001b[0m\u001b[1;33m\u001b[0m\u001b[1;33m\u001b[0m\u001b[0m\n\u001b[0m\u001b[0;32m    167\u001b[0m \u001b[1;33m\u001b[0m\u001b[0m\n\u001b[0;32m    168\u001b[0m     \u001b[1;33m@\u001b[0m\u001b[0mstaticmethod\u001b[0m\u001b[1;33m\u001b[0m\u001b[1;33m\u001b[0m\u001b[0m\n",
      "\u001b[1;32m~\\AppData\\Local\\Programs\\Python\\Python310\\lib\\site-packages\\tdmclient\\fb.py\u001b[0m in \u001b[0;36mparse_value\u001b[1;34m(encoded_fb, pos, schema)\u001b[0m\n\u001b[0;32m    290\u001b[0m             \u001b[1;32mif\u001b[0m \u001b[0mlen\u001b[0m\u001b[1;33m(\u001b[0m\u001b[0mvtable\u001b[0m\u001b[1;33m)\u001b[0m \u001b[1;33m>\u001b[0m \u001b[1;36m1\u001b[0m\u001b[1;33m:\u001b[0m\u001b[1;33m\u001b[0m\u001b[1;33m\u001b[0m\u001b[0m\n\u001b[0;32m    291\u001b[0m                 \u001b[0mpos_field\u001b[0m \u001b[1;33m=\u001b[0m \u001b[0mtable_pos\u001b[0m \u001b[1;33m+\u001b[0m \u001b[0mvtable\u001b[0m\u001b[1;33m[\u001b[0m\u001b[1;36m1\u001b[0m\u001b[1;33m]\u001b[0m\u001b[1;33m\u001b[0m\u001b[1;33m\u001b[0m\u001b[0m\n\u001b[1;32m--> 292\u001b[1;33m                 union_value = FlatBuffer.parse_value(encoded_fb,\n\u001b[0m\u001b[0;32m    293\u001b[0m                                                      \u001b[0mpos_field\u001b[0m\u001b[1;33m,\u001b[0m\u001b[1;33m\u001b[0m\u001b[1;33m\u001b[0m\u001b[0m\n\u001b[0;32m    294\u001b[0m                                                      schema[ix_schema:])\n",
      "\u001b[1;32m~\\AppData\\Local\\Programs\\Python\\Python310\\lib\\site-packages\\tdmclient\\fb.py\u001b[0m in \u001b[0;36mparse_value\u001b[1;34m(encoded_fb, pos, schema)\u001b[0m\n\u001b[0;32m    254\u001b[0m                     \u001b[1;31m# decode field\u001b[0m\u001b[1;33m\u001b[0m\u001b[1;33m\u001b[0m\u001b[0m\n\u001b[0;32m    255\u001b[0m                     \u001b[0mpos_field\u001b[0m \u001b[1;33m=\u001b[0m \u001b[0mtable_pos\u001b[0m \u001b[1;33m+\u001b[0m \u001b[0mvtable\u001b[0m\u001b[1;33m[\u001b[0m\u001b[0mlen\u001b[0m\u001b[1;33m(\u001b[0m\u001b[0mfields\u001b[0m\u001b[1;33m)\u001b[0m\u001b[1;33m]\u001b[0m\u001b[1;33m\u001b[0m\u001b[1;33m\u001b[0m\u001b[0m\n\u001b[1;32m--> 256\u001b[1;33m                     field_value = FlatBuffer.parse_value(encoded_fb,\n\u001b[0m\u001b[0;32m    257\u001b[0m                                                          \u001b[0mpos_field\u001b[0m\u001b[1;33m,\u001b[0m\u001b[1;33m\u001b[0m\u001b[1;33m\u001b[0m\u001b[0m\n\u001b[0;32m    258\u001b[0m                                                          schema[ix_schema:])\n",
      "\u001b[1;32m~\\AppData\\Local\\Programs\\Python\\Python310\\lib\\site-packages\\tdmclient\\fb.py\u001b[0m in \u001b[0;36mparse_value\u001b[1;34m(encoded_fb, pos, schema)\u001b[0m\n\u001b[0;32m    228\u001b[0m                 \u001b[1;32mfor\u001b[0m \u001b[0mi\u001b[0m \u001b[1;32min\u001b[0m \u001b[0mrange\u001b[0m\u001b[1;33m(\u001b[0m\u001b[0mvec_len\u001b[0m\u001b[1;33m)\u001b[0m\u001b[1;33m:\u001b[0m\u001b[1;33m\u001b[0m\u001b[1;33m\u001b[0m\u001b[0m\n\u001b[0;32m    229\u001b[0m                     \u001b[1;31m# decode element\u001b[0m\u001b[1;33m\u001b[0m\u001b[1;33m\u001b[0m\u001b[0m\n\u001b[1;32m--> 230\u001b[1;33m                     els.append(FlatBuffer.parse_value(encoded_fb,\n\u001b[0m\u001b[0;32m    231\u001b[0m                                                       \u001b[0mvec_pos\u001b[0m \u001b[1;33m+\u001b[0m \u001b[1;36m4\u001b[0m \u001b[1;33m+\u001b[0m \u001b[0mi\u001b[0m \u001b[1;33m*\u001b[0m \u001b[0mel_size\u001b[0m\u001b[1;33m,\u001b[0m\u001b[1;33m\u001b[0m\u001b[1;33m\u001b[0m\u001b[0m\n\u001b[0;32m    232\u001b[0m                                                       schema[1:]))\n",
      "\u001b[1;32m~\\AppData\\Local\\Programs\\Python\\Python310\\lib\\site-packages\\tdmclient\\fb.py\u001b[0m in \u001b[0;36mparse_value\u001b[1;34m(encoded_fb, pos, schema)\u001b[0m\n\u001b[0;32m    254\u001b[0m                     \u001b[1;31m# decode field\u001b[0m\u001b[1;33m\u001b[0m\u001b[1;33m\u001b[0m\u001b[0m\n\u001b[0;32m    255\u001b[0m                     \u001b[0mpos_field\u001b[0m \u001b[1;33m=\u001b[0m \u001b[0mtable_pos\u001b[0m \u001b[1;33m+\u001b[0m \u001b[0mvtable\u001b[0m\u001b[1;33m[\u001b[0m\u001b[0mlen\u001b[0m\u001b[1;33m(\u001b[0m\u001b[0mfields\u001b[0m\u001b[1;33m)\u001b[0m\u001b[1;33m]\u001b[0m\u001b[1;33m\u001b[0m\u001b[1;33m\u001b[0m\u001b[0m\n\u001b[1;32m--> 256\u001b[1;33m                     field_value = FlatBuffer.parse_value(encoded_fb,\n\u001b[0m\u001b[0;32m    257\u001b[0m                                                          \u001b[0mpos_field\u001b[0m\u001b[1;33m,\u001b[0m\u001b[1;33m\u001b[0m\u001b[1;33m\u001b[0m\u001b[0m\n\u001b[0;32m    258\u001b[0m                                                          schema[ix_schema:])\n",
      "\u001b[1;32m~\\AppData\\Local\\Programs\\Python\\Python310\\lib\\site-packages\\tdmclient\\fb.py\u001b[0m in \u001b[0;36mparse_value\u001b[1;34m(encoded_fb, pos, schema)\u001b[0m\n\u001b[0;32m    215\u001b[0m             \u001b[0mstr_pos\u001b[0m \u001b[1;33m=\u001b[0m \u001b[0mpos\u001b[0m \u001b[1;33m+\u001b[0m \u001b[0mFlatBuffer\u001b[0m\u001b[1;33m.\u001b[0m\u001b[0mdecode_i32\u001b[0m\u001b[1;33m(\u001b[0m\u001b[0mencoded_fb\u001b[0m\u001b[1;33m,\u001b[0m \u001b[0mpos\u001b[0m\u001b[1;33m)\u001b[0m\u001b[1;33m\u001b[0m\u001b[1;33m\u001b[0m\u001b[0m\n\u001b[0;32m    216\u001b[0m             \u001b[0mstr_len\u001b[0m \u001b[1;33m=\u001b[0m \u001b[0mFlatBuffer\u001b[0m\u001b[1;33m.\u001b[0m\u001b[0mdecode_u32\u001b[0m\u001b[1;33m(\u001b[0m\u001b[0mencoded_fb\u001b[0m\u001b[1;33m,\u001b[0m \u001b[0mstr_pos\u001b[0m\u001b[1;33m)\u001b[0m\u001b[1;33m\u001b[0m\u001b[1;33m\u001b[0m\u001b[0m\n\u001b[1;32m--> 217\u001b[1;33m             \u001b[1;32mreturn\u001b[0m \u001b[0mstr\u001b[0m\u001b[1;33m(\u001b[0m\u001b[0mencoded_fb\u001b[0m\u001b[1;33m[\u001b[0m\u001b[0mstr_pos\u001b[0m \u001b[1;33m+\u001b[0m \u001b[1;36m4\u001b[0m \u001b[1;33m:\u001b[0m \u001b[0mstr_pos\u001b[0m \u001b[1;33m+\u001b[0m \u001b[1;36m4\u001b[0m \u001b[1;33m+\u001b[0m \u001b[0mstr_len\u001b[0m\u001b[1;33m]\u001b[0m\u001b[1;33m,\u001b[0m \u001b[1;34m\"utf-8\"\u001b[0m\u001b[1;33m)\u001b[0m\u001b[1;33m\u001b[0m\u001b[1;33m\u001b[0m\u001b[0m\n\u001b[0m\u001b[0;32m    218\u001b[0m         \u001b[1;32melif\u001b[0m \u001b[0mschema\u001b[0m\u001b[1;33m[\u001b[0m\u001b[1;36m0\u001b[0m\u001b[1;33m]\u001b[0m \u001b[1;33m==\u001b[0m \u001b[1;34m\"*\"\u001b[0m\u001b[1;33m:\u001b[0m\u001b[1;33m\u001b[0m\u001b[1;33m\u001b[0m\u001b[0m\n\u001b[0;32m    219\u001b[0m             \u001b[1;31m# decode vector\u001b[0m\u001b[1;33m\u001b[0m\u001b[1;33m\u001b[0m\u001b[0m\n",
      "\u001b[1;31mUnicodeDecodeError\u001b[0m: 'utf-8' codec can't decode byte 0xe9 in position 1: invalid continuation byte"
     ]
    }
   ],
   "source": [
    "\n",
    "kalman_bool = False\n",
    "\n",
    "\n",
    "print('while start')\n",
    "while True:#(George.get_pos() != George.get_goal()):\n",
    "    \n",
    "    # Read the camera\n",
    "    ret, frame=VideoCap.read()\n",
    "    \n",
    "    # Reupere la position et angle --> XAV\n",
    "    #x_robot, y_robot,angle_robot = update(frame, Lausanne.get_pourcentage(), kalman_bool)\n",
    "    pos_robot,angle_robot = update(frame, Lausanne.get_pourcentage())\n",
    "    #KF.kalman_update(pos, speed)\n",
    "    George.set_pos(pos_robot)\n",
    "    George.set_angle(angle_robot)\n",
    "    print ('position',pos_robot ,angle_robot)\n",
    "    \n",
    "    \n",
    "    # Current goal update --> ANTOINE\n",
    "    \n",
    "    current = path_update(George.get_pos(), George.get_err_pos(), George.get_path(), George.get_current())\n",
    "    \n",
    "    # Check obstacle --> ALICIA\n",
    "    \n",
    "    # Faire avancer --> NOUR\n",
    "    \n",
    "    \n",
    "    proximity = proxi()\n",
    "    \n",
    "        #LOCAL NAVIGATION\n",
    "    if move:\n",
    "        #Thymio is avoiding obstacles\n",
    "        speed_l, speed_r, move = avoid_obstacle(prox_horizonta=proximity) \n",
    "    else:\n",
    "        #Thymio is following the optimal path\n",
    "        speed_l, speed_r = move_to_position(x_robot, y_robot, angle_robot, 152,262)\n",
    "        #Thymio is checking if there's an obstacle in front of it\n",
    "        move = check_cars(prox_horizonta=proximity)\n",
    "        print (speed_l, speed_r)\n",
    "        \n",
    "    motors(speed_l, speed_r) \n",
    "    \n",
    "    \n",
    "    # Quit when we press q\n",
    "    keyVal = cv2.waitKey(1) & 0xFF\n",
    "    if keyVal == ord('q'):\n",
    "        break\n",
    "     \n",
    "    sleep(0.1)\n",
    "\n",
    "print(\"The End\")\n",
    "    \n"
   ]
  },
  {
   "cell_type": "markdown",
   "metadata": {},
   "source": [
    "## 8. \"Dumb\" Thymio\n",
    "We have implemented this code in another Thymio. The \"Dumb\" Thymio is the robot which will challenge the local avoidance of our main Thymio.\n",
    "\n",
    "In this part, the \"dumb\" Thymio will follow a line until it sees an object in front of it. In this case, it stops (and screams) until the object is removed. We start the robot by pushing on its center button and we stop it the same way. \n",
    "\n",
    "We have chosen to flash this code into the robot as there was no need to have communications with the computer for this part. We used the exercices from week 3 to help us for this code. \n",
    "\n",
    "We chose to keep in memory the last turn in order \n",
    "\n",
    "You can find the schematic pseudo code here:\n",
    "<img src=\"image/pseudo_dumb.jpg\" alt=\"Drawing\" style=\"width: 400px;\"/>"
   ]
  },
  {
   "cell_type": "markdown",
   "metadata": {},
   "source": [
    "To connect to the \"dumb\" Thymio:"
   ]
  },
  {
   "cell_type": "code",
   "execution_count": 4,
   "metadata": {},
   "outputs": [],
   "source": [
    "import tdmclient.notebook\n",
    "await tdmclient.notebook.start()"
   ]
  },
  {
   "cell_type": "markdown",
   "metadata": {},
   "source": [
    "The code: "
   ]
  },
  {
   "cell_type": "code",
   "execution_count": 12,
   "metadata": {},
   "outputs": [],
   "source": [
    "%%run_python\n",
    "\n",
    "# Implementation of **Dumb Thymio**\n",
    "# \n",
    "# Author: Alicia Mauroux, Robotic MA1, Fall 2021\n",
    "\n",
    "#constants and variables\n",
    "white = 900\n",
    "GOAL = 100\n",
    "PROX = 2000\n",
    "PROX_SIDE = 1600\n",
    "\n",
    "lost = False\n",
    "last_turn = False #False = left; True = Right\n",
    "w_le = 0\n",
    "w_ri = 0\n",
    "state = 0\n",
    "\n",
    "timer_period[0] = 100   # 100ms sampling time\n",
    "\n",
    "######################\n",
    "#     FUNCTIONS\n",
    "#####################\n",
    "@onevent\n",
    "def button_center():\n",
    "    \"\"\"\n",
    "    start/stop the robot by pushing on the center button \n",
    "    \n",
    "    global state is the state of our Thymio (1 -> Thymio is running, 0 -> Thymio is sleeping)\n",
    "    \"\"\"\n",
    "    global state\n",
    "    if button_center == 1:\n",
    "        state = 1 if state==0 else 0\n",
    "\n",
    "def ground_white(white_threshold):\n",
    "    \"\"\"\n",
    "    Tests whether the two (or one of the two) ground sensors have seen white\n",
    "    \n",
    "    param white_threshold: threshold starting which it is considered that the sensor saw white\n",
    "    global turn_left means that Thymio is turning left\n",
    "    global lost means that Thymio lost its lign\n",
    "    global w_le is the left prox_ground value\n",
    "    global w_ri is the right prox_ground value\n",
    "    global last_turn indicate which was the last turn of Thymio \n",
    "    \"\"\"\n",
    "    global turn_left, prox_ground_reflected, lost, w_le, w_ri, last_turn\n",
    "    \n",
    "    w_le = prox_ground_reflected[0] \n",
    "    w_ri = prox_ground_reflected[1] \n",
    "    \n",
    "    #white on the left --> turn right then to keep the track\n",
    "    if (w_le > white_threshold):\n",
    "        if (w_ri < white_threshold):\n",
    "            turn_left = False\n",
    "            lost = False\n",
    "            last_turn = True #Last turn was to the right\n",
    "            return True\n",
    "    #white on both direction --> you lost the track! turn back\n",
    "        else:\n",
    "            lost = True\n",
    "            turn_left = False\n",
    "            return True    \n",
    "    else:\n",
    "    #white on the right --> turn left then to keep the track\n",
    "        if(w_ri > white_threshold):\n",
    "            lost = False\n",
    "            turn_left = True\n",
    "            last_turn = False #Last turn was to the left\n",
    "            return True\n",
    "    #following the lign!\n",
    "        else:\n",
    "            lost = False\n",
    "            turn_left = False\n",
    "            return False\n",
    "\n",
    "def test_object(prox_threshold,prox_threshold_side):\n",
    "    \"\"\"\n",
    "    Tests whether the front proximity sensors saw an object on Thymio's way. If there's something, a sound will be played.\n",
    "    \n",
    "    param prox_threshold: threshold starting which it is considered that the sensor saw an object\n",
    "    param prox_threshold_side: threshold starting which it is considered that the side sensor saw an object\n",
    "    \"\"\"\n",
    "    global prox_horizontal\n",
    "    \n",
    "    if (prox_horizontal[2]>prox_threshold):\n",
    "        nf_sound_play(5)\n",
    "        return True\n",
    "    elif (prox_horizontal[1]>prox_threshold_side):\n",
    "        nf_sound_play(5)\n",
    "        return True\n",
    "    elif (prox_horizontal[3]>prox_threshold_side):\n",
    "        nf_sound_play(5)\n",
    "        return True\n",
    "    else:\n",
    "        return False\n",
    "        \n",
    "def follow_lign(goal):\n",
    "    \"\"\"\n",
    "    Will follow the lign by turning left/right each time the right/left ground sensor is seeing white\n",
    "    \n",
    "    param goal: It's the sensor's value of the black lign that Thymio is following \n",
    "    param prox_threshold_side: threshold starting which it is considered that the side sensor saw an object\n",
    "    global lost: means that Thymio lost its lign\n",
    "    global w_le: is the left prox_ground value\n",
    "    global w_ri: is the right prox_ground value\n",
    "    global last_turn: indicate which was the last turn of Thymio \n",
    "    \"\"\"\n",
    "    global turn_left, lost, last_turn, motor_left_target, motor_right_target\n",
    "    \n",
    "    SPEED0 = 200\n",
    "    SPEED_LOST = SPEED0//2\n",
    "    TURN = 150\n",
    "\n",
    "    if(test_object(PROX,PROX_SIDE)):\n",
    "        l_speed = 0\n",
    "        r_speed = 0\n",
    "    else:\n",
    "        l_speed = SPEED0\n",
    "        r_speed = SPEED0\n",
    "\n",
    "        if (ground_white(white)):\n",
    "            if(turn_left):\n",
    "                l_speed = l_speed - TURN\n",
    "                r_speed = r_speed + TURN\n",
    "            elif(lost):\n",
    "                if(last_turn):\n",
    "                    l_speed = SPEED_LOST\n",
    "                    r_speed = -SPEED_LOST\n",
    "                else:\n",
    "                    l_speed = -SPEED_LOST\n",
    "                    r_speed = SPEED_LOST\n",
    "            else:\n",
    "                l_speed = l_speed  + TURN\n",
    "                r_speed = r_speed - TURN\n",
    "\n",
    "    motor_left_target = l_speed\n",
    "    motor_right_target = r_speed\n",
    "\n",
    "##############################\n",
    "#  MAIN LOOP OF DUMB THYMIO\n",
    "##############################\n",
    "@onevent \n",
    "def timer0():\n",
    "    \n",
    "    global motor_left_target, motor_right_target\n",
    "    \n",
    "    if state:\n",
    "        follow_lign(GOAL)\n",
    "    else:\n",
    "        motor_left_target = 0\n",
    "        motor_right_target = 0"
   ]
  },
  {
   "cell_type": "markdown",
   "metadata": {},
   "source": [
    "## 9. Conclusion"
   ]
  },
  {
   "cell_type": "markdown",
   "metadata": {},
   "source": [
    "In conclusion, it was a very nice project and it went well. We were a good team and it was easy to work with each other. We had some issues with the part regarding the camera but the problem has been solved. "
   ]
  },
  {
   "cell_type": "markdown",
   "metadata": {},
   "source": [
    "## 10. Sources\n",
    "- https://pypi.org/project/tdmclient/ \n",
    "- http://wiki.thymio.org/en:thymioapi\n",
    "- https://stackoverflow.com/questions/2827393/angles-between-two-n-dimensional-vectors-in-python\n",
    "- Exercices from the course (Basics of mobile robotics [MICRO-452])\n",
    "- Control your Thymio in Python\n",
    "\n",
    "\n",
    "\n",
    "\n"
   ]
  },
  {
   "cell_type": "code",
   "execution_count": null,
   "metadata": {},
   "outputs": [],
   "source": []
  }
 ],
 "metadata": {
  "interpreter": {
   "hash": "aee8b7b246df8f9039afb4144a1f6fd8d2ca17a180786b69acc140d282b71a49"
  },
  "kernelspec": {
   "display_name": "Python 3 (ipykernel)",
   "language": "python",
   "name": "python3"
  },
  "language_info": {
   "codemirror_mode": {
    "name": "ipython",
    "version": 3
   },
   "file_extension": ".py",
   "mimetype": "text/x-python",
   "name": "python",
   "nbconvert_exporter": "python",
   "pygments_lexer": "ipython3",
   "version": "3.8.8"
  }
 },
 "nbformat": 4,
 "nbformat_minor": 2
}
