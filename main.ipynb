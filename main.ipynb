{
 "cells": [
  {
   "cell_type": "markdown",
   "metadata": {},
   "source": [
    "The next cell import all the libraries and the other folder that we will need"
   ]
  },
  {
   "cell_type": "code",
   "execution_count": 1,
   "metadata": {},
   "outputs": [],
   "source": [
    "import tdmclient.notebook\n",
    "await tdmclient.notebook.start()"
   ]
  },
  {
   "cell_type": "code",
   "execution_count": 2,
   "metadata": {},
   "outputs": [],
   "source": [
    "import math\n",
    "import numpy as np\n",
    "import matplotlib.pyplot as plt\n",
    "from numpy.core.fromnumeric import size\n",
    "from matplotlib import colors\n",
    "from asgiref.sync import sync_to_async #in order to load variables to communicate between sync and async\n",
    "\n",
    "import optimal_path as op\n",
    "\n",
    "from robot import Robot\n",
    "from Map import Map\n",
    "from Local_navigation import* \n"
   ]
  },
  {
   "cell_type": "markdown",
   "metadata": {},
   "source": [
    "initialize the initial grid and position"
   ]
  },
  {
   "cell_type": "code",
   "execution_count": null,
   "metadata": {},
   "outputs": [],
   "source": [
    "#start , goal , grid = \"init_map\"\n",
    "start_pos = (0,0)\n",
    "goal = (43,33)\n",
    "map_lenght = 5\n",
    "nb_of_square_by_side = 50"
   ]
  },
  {
   "cell_type": "markdown",
   "metadata": {},
   "source": [
    "Next cell is to create an instance Robot and Map \n",
    "  "
   ]
  },
  {
   "cell_type": "code",
   "execution_count": null,
   "metadata": {},
   "outputs": [],
   "source": [
    "George = Robot(start_pos, goal)\n",
    "Lausanne = Map(map_lenght, nb_of_square_by_side)"
   ]
  },
  {
   "cell_type": "markdown",
   "metadata": {},
   "source": [
    "Global control \n",
    "\n",
    "--> Optimal path calculation"
   ]
  },
  {
   "cell_type": "code",
   "execution_count": null,
   "metadata": {},
   "outputs": [],
   "source": [
    "# Compute the optimal path and visited nodes\n",
    "path, visitedNodes = op.path_computation(George.get_start() , George.get_goal() , Lausanne.get_lenght(), Lausanne.get_map())\n",
    "\n",
    "George.set_path(path) \n",
    "George.set_visit_nodes(visitedNodes) \n",
    "\n",
    "# Display the optimal path\n",
    "op.display_map(Lausanne.get_lenght(),  Lausanne.get_map(),  George.get_visit_nodes(), George.get_path(), George.get_start(), George.get_goal())\n"
   ]
  },
  {
   "cell_type": "markdown",
   "metadata": {},
   "source": [
    "start threads"
   ]
  },
  {
   "cell_type": "code",
   "execution_count": null,
   "metadata": {},
   "outputs": [],
   "source": [
    "# Threads de l'acquisition d'image et filtre Kalman --> C'est l'ordi qui envoit ça.\n",
    "# Met à jour la position du robot\n",
    "# Affiche sur ordi la map analisée\n",
    "\n",
    "# Thread pour les roues? --> implique class motors"
   ]
  },
  {
   "cell_type": "markdown",
   "metadata": {},
   "source": [
    "# Main loop"
   ]
  },
  {
   "cell_type": "code",
   "execution_count": 3,
   "metadata": {},
   "outputs": [
    {
     "ename": "NameError",
     "evalue": "name 'prox_horizontal' is not defined",
     "output_type": "error",
     "traceback": [
      "\u001b[0;31m---------------------------------------------------------------------------\u001b[0m",
      "\u001b[0;31mNameError\u001b[0m                                 Traceback (most recent call last)",
      "\u001b[0;32m/var/folders/w4/rlzv9syd0416nt9tchvspk1m0000gn/T/ipykernel_84629/2001070258.py\u001b[0m in \u001b[0;36m<module>\u001b[0;34m\u001b[0m\n\u001b[1;32m     31\u001b[0m     \u001b[0;32melse\u001b[0m\u001b[0;34m:\u001b[0m\u001b[0;34m\u001b[0m\u001b[0;34m\u001b[0m\u001b[0m\n\u001b[1;32m     32\u001b[0m         \u001b[0;31m#Thymio is checking if there's an obstacle in front of it\u001b[0m\u001b[0;34m\u001b[0m\u001b[0;34m\u001b[0m\u001b[0;34m\u001b[0m\u001b[0m\n\u001b[0;32m---> 33\u001b[0;31m         \u001b[0mmove\u001b[0m \u001b[0;34m=\u001b[0m \u001b[0mcheck_cars\u001b[0m\u001b[0;34m(\u001b[0m\u001b[0;34m)\u001b[0m\u001b[0;34m\u001b[0m\u001b[0;34m\u001b[0m\u001b[0m\n\u001b[0m\u001b[1;32m     34\u001b[0m         \u001b[0;31m#FUNCTION NOUR --> OPTIMAL PATH\u001b[0m\u001b[0;34m\u001b[0m\u001b[0;34m\u001b[0m\u001b[0;34m\u001b[0m\u001b[0m\n\u001b[1;32m     35\u001b[0m \u001b[0;34m\u001b[0m\u001b[0m\n",
      "\u001b[0;32m~/Library/Python/3.8/lib/python/site-packages/tdmclient/notebook/__init__.py\u001b[0m in \u001b[0;36mfunc_wrapper\u001b[0;34m(*args, **kwargs)\u001b[0m\n\u001b[1;32m    159\u001b[0m         \u001b[0mvars_to_sync\u001b[0m \u001b[0;34m=\u001b[0m \u001b[0mcandidates\u001b[0m \u001b[0;34m&\u001b[0m \u001b[0;34m{\u001b[0m\u001b[0m_interactive_console\u001b[0m\u001b[0;34m.\u001b[0m\u001b[0mto_python_name\u001b[0m\u001b[0;34m(\u001b[0m\u001b[0mname\u001b[0m\u001b[0;34m)\u001b[0m \u001b[0;32mfor\u001b[0m \u001b[0mname\u001b[0m \u001b[0;32min\u001b[0m \u001b[0mnode\u001b[0m\u001b[0;34m.\u001b[0m\u001b[0mvar\u001b[0m\u001b[0;34m.\u001b[0m\u001b[0mkeys\u001b[0m\u001b[0;34m(\u001b[0m\u001b[0;34m)\u001b[0m\u001b[0;34m}\u001b[0m\u001b[0;34m\u001b[0m\u001b[0;34m\u001b[0m\u001b[0m\n\u001b[1;32m    160\u001b[0m         \u001b[0m_interactive_console\u001b[0m\u001b[0;34m.\u001b[0m\u001b[0mfetch_variables\u001b[0m\u001b[0;34m(\u001b[0m\u001b[0mvars_to_sync\u001b[0m\u001b[0;34m)\u001b[0m\u001b[0;34m\u001b[0m\u001b[0;34m\u001b[0m\u001b[0m\n\u001b[0;32m--> 161\u001b[0;31m         \u001b[0mr\u001b[0m \u001b[0;34m=\u001b[0m \u001b[0mfunc\u001b[0m\u001b[0;34m(\u001b[0m\u001b[0;34m*\u001b[0m\u001b[0margs\u001b[0m\u001b[0;34m,\u001b[0m \u001b[0;34m**\u001b[0m\u001b[0mkwargs\u001b[0m\u001b[0;34m)\u001b[0m\u001b[0;34m\u001b[0m\u001b[0;34m\u001b[0m\u001b[0m\n\u001b[0m\u001b[1;32m    162\u001b[0m         \u001b[0m_interactive_console\u001b[0m\u001b[0;34m.\u001b[0m\u001b[0msend_variables\u001b[0m\u001b[0;34m(\u001b[0m\u001b[0mvars_to_sync\u001b[0m\u001b[0;34m)\u001b[0m\u001b[0;34m\u001b[0m\u001b[0;34m\u001b[0m\u001b[0m\n\u001b[1;32m    163\u001b[0m         \u001b[0;32mreturn\u001b[0m \u001b[0mr\u001b[0m\u001b[0;34m\u001b[0m\u001b[0;34m\u001b[0m\u001b[0m\n",
      "\u001b[0;32m~/ Mes Documents/EPFL/_Master/MA1/Basics of mobile robotics [MICRO-452]/Project/Mobile_robot/Local_navigation.py\u001b[0m in \u001b[0;36mcheck_cars\u001b[0;34m(state, Tres_high, Tres_mid_side_high, Tres_low, Tres_mid_side_low, Tres_side_high)\u001b[0m\n\u001b[1;32m    106\u001b[0m \u001b[0;34m\u001b[0m\u001b[0m\n\u001b[1;32m    107\u001b[0m \u001b[0;34m\u001b[0m\u001b[0m\n\u001b[0;32m--> 108\u001b[0;31m     \u001b[0;32mif\u001b[0m\u001b[0;34m(\u001b[0m\u001b[0;34m(\u001b[0m\u001b[0mprox_horizontal\u001b[0m\u001b[0;34m[\u001b[0m\u001b[0;36m2\u001b[0m\u001b[0;34m]\u001b[0m\u001b[0;34m>\u001b[0m\u001b[0mTres_high\u001b[0m\u001b[0;34m)\u001b[0m\u001b[0;32mor\u001b[0m\u001b[0;34m(\u001b[0m\u001b[0mprox_horizontal\u001b[0m\u001b[0;34m[\u001b[0m\u001b[0;36m1\u001b[0m\u001b[0;34m]\u001b[0m\u001b[0;34m>\u001b[0m\u001b[0mTres_mid_side_high\u001b[0m\u001b[0;34m)\u001b[0m\u001b[0;32mor\u001b[0m\u001b[0;34m(\u001b[0m\u001b[0mprox_horizontal\u001b[0m\u001b[0;34m[\u001b[0m\u001b[0;36m3\u001b[0m\u001b[0;34m]\u001b[0m\u001b[0;34m>\u001b[0m\u001b[0mTres_mid_side_high\u001b[0m\u001b[0;34m)\u001b[0m\u001b[0;34m)\u001b[0m\u001b[0;34m:\u001b[0m\u001b[0;34m\u001b[0m\u001b[0;34m\u001b[0m\u001b[0m\n\u001b[0m\u001b[1;32m    109\u001b[0m         \u001b[0;32mreturn\u001b[0m \u001b[0;32mTrue\u001b[0m\u001b[0;34m\u001b[0m\u001b[0;34m\u001b[0m\u001b[0m\n\u001b[1;32m    110\u001b[0m     \u001b[0;31m#There's something in front of Thymio --> avoid_function take the control\u001b[0m\u001b[0;34m\u001b[0m\u001b[0;34m\u001b[0m\u001b[0;34m\u001b[0m\u001b[0m\n",
      "\u001b[0;31mNameError\u001b[0m: name 'prox_horizontal' is not defined"
     ]
    }
   ],
   "source": [
    "global move \n",
    "move = False #bool which indicate how our robot is moving (1: avoid an object VS 0: following the optimal path)\n",
    "\n",
    "while True:#(George.get_pos() != George.get_goal()):\n",
    "    \n",
    "    \n",
    "    # Reupere la position et angle --> XAV\n",
    "    # Current goal update --> ANTOINE\n",
    "    # Check obstacle --> ALICIA\n",
    "    # Faire avancer --> NOUR\n",
    "    \n",
    "    \"\"\"\n",
    "    # Path calculation?\n",
    "    Geroge.set_current(op.path_update(George.get_pos(), George.get_err_pos(), George.get_path(), George.get_current())) # Update the \"local\" goal\n",
    "    current_goal = George.get_path()(Geroge.get_current())\n",
    "    obstacle = check_opstacle() # Booleen\n",
    "    if(obstacle):\n",
    "        manoeuvre_devitement\n",
    "    else : \n",
    "        go_forward_to_the_local_goal(George.get_angle(), George.getpos(), current_goal)\n",
    "    \"\"\"\n",
    "    \n",
    "    \n",
    "\n",
    "    \n",
    "    \n",
    "    #LOCAL NAVIGATION\n",
    "    if move:\n",
    "        #Thymio is avoiding obstacles\n",
    "        move = avoid_obstacle() \n",
    "    else:\n",
    "        #Thymio is checking if there's an obstacle in front of it\n",
    "        move = check_cars() \n",
    "        #FUNCTION NOUR --> OPTIMAL PATH\n",
    "    \n",
    "    sleep(0.5)\n",
    "\n",
    "#led_arrivé"
   ]
  },
  {
   "cell_type": "code",
   "execution_count": null,
   "metadata": {},
   "outputs": [],
   "source": []
  }
 ],
 "metadata": {
  "interpreter": {
   "hash": "aee8b7b246df8f9039afb4144a1f6fd8d2ca17a180786b69acc140d282b71a49"
  },
  "kernelspec": {
   "display_name": "Python 3 (ipykernel)",
   "language": "python",
   "name": "python3"
  },
  "language_info": {
   "codemirror_mode": {
    "name": "ipython",
    "version": 3
   },
   "file_extension": ".py",
   "mimetype": "text/x-python",
   "name": "python",
   "nbconvert_exporter": "python",
   "pygments_lexer": "ipython3",
   "version": "3.8.8"
  }
 },
 "nbformat": 4,
 "nbformat_minor": 2
}
