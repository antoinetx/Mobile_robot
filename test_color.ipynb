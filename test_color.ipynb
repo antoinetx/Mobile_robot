{
 "cells": [
  {
   "cell_type": "code",
   "execution_count": 1,
   "metadata": {},
   "outputs": [
    {
     "ename": "KeyboardInterrupt",
     "evalue": "",
     "output_type": "error",
     "traceback": [
      "\u001b[0;31m---------------------------------------------------------------------------\u001b[0m",
      "\u001b[0;31mKeyboardInterrupt\u001b[0m                         Traceback (most recent call last)",
      "\u001b[0;32m/var/folders/r3/l17pxy9j13749mq5h96642rc0000gn/T/ipykernel_31742/3700019023.py\u001b[0m in \u001b[0;36m<module>\u001b[0;34m\u001b[0m\n\u001b[1;32m     36\u001b[0m \u001b[0;34m\u001b[0m\u001b[0m\n\u001b[1;32m     37\u001b[0m \u001b[0;32mwhile\u001b[0m \u001b[0;32mTrue\u001b[0m\u001b[0;34m:\u001b[0m\u001b[0;34m\u001b[0m\u001b[0;34m\u001b[0m\u001b[0m\n\u001b[0;32m---> 38\u001b[0;31m     \u001b[0;34m(\u001b[0m\u001b[0mgrabbed\u001b[0m\u001b[0;34m,\u001b[0m \u001b[0mframe\u001b[0m\u001b[0;34m)\u001b[0m \u001b[0;34m=\u001b[0m \u001b[0mcapture\u001b[0m\u001b[0;34m.\u001b[0m\u001b[0mread\u001b[0m\u001b[0;34m(\u001b[0m\u001b[0;34m)\u001b[0m\u001b[0;34m\u001b[0m\u001b[0;34m\u001b[0m\u001b[0m\n\u001b[0m\u001b[1;32m     39\u001b[0m     \u001b[0mcv2\u001b[0m\u001b[0;34m.\u001b[0m\u001b[0mimshow\u001b[0m\u001b[0;34m(\u001b[0m\u001b[0;34m'Video'\u001b[0m\u001b[0;34m,\u001b[0m \u001b[0mframe\u001b[0m\u001b[0;34m)\u001b[0m\u001b[0;34m\u001b[0m\u001b[0;34m\u001b[0m\u001b[0m\n\u001b[1;32m     40\u001b[0m \u001b[0;34m\u001b[0m\u001b[0m\n",
      "\u001b[0;31mKeyboardInterrupt\u001b[0m: "
     ]
    }
   ],
   "source": [
    "import numpy as np\n",
    "import cv2\n",
    "\n",
    "COLOR_ROWS = 80\n",
    "COLOR_COLS = 250\n",
    "\n",
    "capture = cv2.VideoCapture(1)\n",
    "if not capture.isOpened():\n",
    "    raise RuntimeError('Error opening VideoCapture.')\n",
    "\n",
    "(grabbed, frame) = capture.read()\n",
    "snapshot = np.zeros(frame.shape, dtype=np.uint8)\n",
    "cv2.imshow('Snapshot', snapshot)\n",
    "\n",
    "colorArray = np.zeros((COLOR_ROWS, COLOR_COLS, 3), dtype=np.uint8)\n",
    "cv2.imshow('Color', colorArray)\n",
    "\n",
    "def on_mouse_click(event, x, y, flags, userParams):\n",
    "    if event == cv2.EVENT_LBUTTONDOWN:\n",
    "        colorArray[:] = snapshot[y, x, :]\n",
    "        rgb = snapshot[y, x, [2,1,0]]\n",
    "\n",
    "        # From stackoverflow.com/questions/1855884/determine-font-color-based-on-background-color\n",
    "        luminance = 1 - (0.299*rgb[0] + 0.587*rgb[1] + 0.114*rgb[2]) / 255\n",
    "        if luminance < 0.5:\n",
    "            textColor = [0,0,0]\n",
    "        else:\n",
    "            textColor = [255,255,255]\n",
    "\n",
    "        cv2.putText(colorArray, str(rgb), (20, COLOR_ROWS - 20),\n",
    "            fontFace=cv2.FONT_HERSHEY_SIMPLEX, fontScale=0.8, color=textColor)\n",
    "        cv2.imshow('Color', colorArray)\n",
    "\n",
    "cv2.setMouseCallback('Snapshot', on_mouse_click)\n",
    "\n",
    "\n",
    "while True:\n",
    "    (grabbed, frame) = capture.read()\n",
    "    cv2.imshow('Video', frame)\n",
    "\n",
    "    if not grabbed:\n",
    "        break\n",
    "\n",
    "    keyVal = cv2.waitKey(1) & 0xFF\n",
    "    if keyVal == ord('q'):\n",
    "        break\n",
    "    elif keyVal == ord('t'):\n",
    "        snapshot = frame.copy()\n",
    "        cv2.imshow('Snapshot', snapshot)\n",
    "\n",
    "capture.release()\n",
    "cv2.destroyAllWindows()"
   ]
  }
 ],
 "metadata": {
  "interpreter": {
   "hash": "aee8b7b246df8f9039afb4144a1f6fd8d2ca17a180786b69acc140d282b71a49"
  },
  "kernelspec": {
   "display_name": "Python 3.9.7 64-bit",
   "language": "python",
   "name": "python3"
  },
  "language_info": {
   "codemirror_mode": {
    "name": "ipython",
    "version": 3
   },
   "file_extension": ".py",
   "mimetype": "text/x-python",
   "name": "python",
   "nbconvert_exporter": "python",
   "pygments_lexer": "ipython3",
   "version": "3.9.7"
  },
  "orig_nbformat": 4
 },
 "nbformat": 4,
 "nbformat_minor": 2
}
