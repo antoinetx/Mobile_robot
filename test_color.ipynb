{
 "cells": [
  {
   "cell_type": "code",
   "execution_count": 1,
   "metadata": {},
   "outputs": [],
   "source": [
    "import numpy as np\n",
    "import cv2\n",
    "\n",
    "COLOR_ROWS = 80\n",
    "COLOR_COLS = 250\n",
    "\n",
    "capture = cv2.VideoCapture(0)\n",
    "\n",
    "if not capture.isOpened():\n",
    "    raise RuntimeError('Error opening VideoCapture.')\n",
    "(grabbed, frame) = capture.read()\n",
    "\n",
    "#frame = cv2.imread('frame.jpg')\n",
    "snapshot = np.zeros(frame.shape, dtype=np.uint8)\n",
    "\n",
    "cv2.imshow('Snapshot', snapshot)\n",
    "\n",
    "colorArray = np.zeros((COLOR_ROWS, COLOR_COLS, 3), dtype=np.uint8)\n",
    "cv2.imshow('Color', colorArray)\n",
    "\n",
    "def on_mouse_click(event, x, y, flags, userParams):\n",
    "    if event == cv2.EVENT_LBUTTONDOWN:\n",
    "        colorArray[:] = snapshot[y, x, :]\n",
    "        rgb = snapshot[y, x, [2,1,0]]\n",
    "\n",
    "        # From stackoverflow.com/questions/1855884/determine-font-color-based-on-background-color\n",
    "        luminance = 1 - (0.299*rgb[0] + 0.587*rgb[1] + 0.114*rgb[2]) / 255\n",
    "        if luminance < 0.5:\n",
    "            textColor = [0,0,0]\n",
    "        else:\n",
    "            textColor = [255,255,255]\n",
    "            \n",
    "\n",
    "        cv2.putText(colorArray, str(rgb), (20, COLOR_ROWS - 20),\n",
    "            fontFace=cv2.FONT_HERSHEY_SIMPLEX, fontScale=0.8, color=textColor)\n",
    "        cv2.imshow('Color', colorArray)\n",
    "\n",
    "cv2.setMouseCallback('Snapshot', on_mouse_click)\n",
    "\n",
    "\n",
    "while True:\n",
    "    (grabbed, frame) = capture.read()\n",
    "    #frame = cv2.imread('frame.jpg')\n",
    "    cv2.imshow('Video', frame)\n",
    "\n",
    "    if not grabbed:\n",
    "        break\n",
    "\n",
    "    keyVal = cv2.waitKey(1) & 0xFF\n",
    "    if keyVal == ord('q'):\n",
    "        break\n",
    "    elif keyVal == ord('t'):\n",
    "        snapshot = frame.copy()\n",
    "        cv2.imshow('Snapshot', snapshot)\n",
    "\n",
    "capture.release()\n",
    "cv2.destroyAllWindows()"
   ]
  }
 ],
 "metadata": {
  "interpreter": {
   "hash": "aee8b7b246df8f9039afb4144a1f6fd8d2ca17a180786b69acc140d282b71a49"
  },
  "kernelspec": {
   "display_name": "Python 3.9.7 64-bit",
   "language": "python",
   "name": "python3"
  },
  "language_info": {
   "codemirror_mode": {
    "name": "ipython",
    "version": 3
   },
   "file_extension": ".py",
   "mimetype": "text/x-python",
   "name": "python",
   "nbconvert_exporter": "python",
   "pygments_lexer": "ipython3",
   "version": "3.9.7"
  },
  "orig_nbformat": 4
 },
 "nbformat": 4,
 "nbformat_minor": 2
}
