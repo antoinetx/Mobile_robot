{
 "cells": [
  {
   "cell_type": "markdown",
   "metadata": {},
   "source": [
    "Test juste camera"
   ]
  },
  {
   "cell_type": "code",
   "execution_count": 9,
   "metadata": {},
   "outputs": [
    {
     "ename": "KeyboardInterrupt",
     "evalue": "",
     "output_type": "error",
     "traceback": [
      "\u001b[0;31m---------------------------------------------------------------------------\u001b[0m",
      "\u001b[0;31mKeyboardInterrupt\u001b[0m                         Traceback (most recent call last)",
      "\u001b[0;32m/var/folders/r3/l17pxy9j13749mq5h96642rc0000gn/T/ipykernel_30499/2412558711.py\u001b[0m in \u001b[0;36m<module>\u001b[0;34m\u001b[0m\n\u001b[1;32m     14\u001b[0m \u001b[0;34m\u001b[0m\u001b[0m\n\u001b[1;32m     15\u001b[0m \u001b[0;34m\u001b[0m\u001b[0m\n\u001b[0;32m---> 16\u001b[0;31m     \u001b[0;32mif\u001b[0m \u001b[0mcv2\u001b[0m\u001b[0;34m.\u001b[0m\u001b[0mwaitKey\u001b[0m\u001b[0;34m(\u001b[0m\u001b[0;36m1\u001b[0m\u001b[0;34m)\u001b[0m\u001b[0;34m&\u001b[0m\u001b[0;36m0xFF\u001b[0m\u001b[0;34m==\u001b[0m\u001b[0mord\u001b[0m\u001b[0;34m(\u001b[0m\u001b[0;34m'q'\u001b[0m\u001b[0;34m)\u001b[0m\u001b[0;34m:\u001b[0m\u001b[0;34m\u001b[0m\u001b[0;34m\u001b[0m\u001b[0m\n\u001b[0m\u001b[1;32m     17\u001b[0m         \u001b[0mVideoCap\u001b[0m\u001b[0;34m.\u001b[0m\u001b[0mrelease\u001b[0m\u001b[0;34m(\u001b[0m\u001b[0;34m)\u001b[0m\u001b[0;34m\u001b[0m\u001b[0;34m\u001b[0m\u001b[0m\n\u001b[1;32m     18\u001b[0m         \u001b[0mcv2\u001b[0m\u001b[0;34m.\u001b[0m\u001b[0mdestroyAllWindows\u001b[0m\u001b[0;34m(\u001b[0m\u001b[0;34m)\u001b[0m\u001b[0;34m\u001b[0m\u001b[0;34m\u001b[0m\u001b[0m\n",
      "\u001b[0;31mKeyboardInterrupt\u001b[0m: "
     ]
    }
   ],
   "source": [
    "import cv2\n",
    "import numpy as np\n",
    "\n",
    "VideoCap=cv2.VideoCapture(1)\n",
    "VideoCap.isOpened()\n",
    "#i = 0\n",
    "#print(return_camera_indices())\n",
    "while True:\n",
    "    #i = i+1\n",
    "    check, frame= VideoCap.read()\n",
    "    \n",
    "\n",
    "    cv2.imshow('image', frame)\n",
    "    \n",
    "\n",
    "    if cv2.waitKey(1)&0xFF==ord('q'):\n",
    "        VideoCap.release()\n",
    "        cv2.destroyAllWindows()\n",
    "        break\n",
    "    \n",
    "print(frame)\n",
    "VideoCap.release()\n",
    "cv2.destroyAllWindows()"
   ]
  },
  {
   "cell_type": "markdown",
   "metadata": {},
   "source": [
    "Test basique :"
   ]
  },
  {
   "cell_type": "code",
   "execution_count": 19,
   "metadata": {},
   "outputs": [
    {
     "name": "stdout",
     "output_type": "stream",
     "text": [
      "5\n",
      "4\n",
      "[[0. 0.]\n",
      " [0. 0.]]\n"
     ]
    },
    {
     "ename": "TypeError",
     "evalue": "empty() missing required argument 'shape' (pos 1)",
     "output_type": "error",
     "traceback": [
      "\u001b[0;31m---------------------------------------------------------------------------\u001b[0m",
      "\u001b[0;31mTypeError\u001b[0m                                 Traceback (most recent call last)",
      "\u001b[0;32m/var/folders/r3/l17pxy9j13749mq5h96642rc0000gn/T/ipykernel_19548/388709798.py\u001b[0m in \u001b[0;36m<module>\u001b[0;34m\u001b[0m\n\u001b[1;32m      8\u001b[0m \u001b[0mprint\u001b[0m\u001b[0;34m(\u001b[0m\u001b[0ma\u001b[0m\u001b[0;34m)\u001b[0m\u001b[0;34m\u001b[0m\u001b[0;34m\u001b[0m\u001b[0m\n\u001b[1;32m      9\u001b[0m \u001b[0;34m\u001b[0m\u001b[0m\n\u001b[0;32m---> 10\u001b[0;31m \u001b[0ma\u001b[0m \u001b[0;34m=\u001b[0m \u001b[0mnp\u001b[0m\u001b[0;34m.\u001b[0m\u001b[0mempty\u001b[0m\u001b[0;34m(\u001b[0m\u001b[0;34m)\u001b[0m\u001b[0;34m\u001b[0m\u001b[0;34m\u001b[0m\u001b[0m\n\u001b[0m",
      "\u001b[0;31mTypeError\u001b[0m: empty() missing required argument 'shape' (pos 1)"
     ]
    }
   ],
   "source": [
    "import math \n",
    "#print(round(2.1))\n",
    "\n",
    "print(math.ceil(4.2)) \n",
    "print(math.floor(4.2)) \n",
    "\n",
    "a = np.zeros((2,2))\n",
    "print(a)\n",
    "\n",
    "a = np.empty()\n"
   ]
  },
  {
   "cell_type": "markdown",
   "metadata": {},
   "source": [
    "Test élargir les obstacles"
   ]
  },
  {
   "cell_type": "code",
   "execution_count": 1,
   "metadata": {},
   "outputs": [
    {
     "name": "stdout",
     "output_type": "stream",
     "text": [
      "631\n",
      "[[47 46 45 ... 22 23 24]\n",
      " [47 46 45 ... 18 17 16]]\n"
     ]
    },
    {
     "data": {
      "text/plain": [
       "<Figure size 432x288 with 0 Axes>"
      ]
     },
     "metadata": {},
     "output_type": "display_data"
    },
    {
     "data": {
      "image/png": "[encoded data removed]",
      "text/plain": [
       "<Figure size 432x288 with 2 Axes>"
      ]
     },
     "metadata": {
      "needs_background": "light"
     },
     "output_type": "display_data"
    },
    {
     "data": {
      "image/png": "[encoded data removed]",
      "text/plain": [
       "<Figure size 504x504 with 1 Axes>"
      ]
     },
     "metadata": {
      "needs_background": "light"
     },
     "output_type": "display_data"
    }
   ],
   "source": [
    "from Map import Map\n",
    "from robot import Robot\n",
    "import optimal_path as op\n",
    "import matplotlib.pyplot as plt\n",
    "import math\n",
    "import cv2\n",
    "import numpy as np\n",
    "import video_frame as vf\n",
    "\n",
    "George = Robot((47,47),(25,15))\n",
    "lausanne = Map(5,50)\n",
    "\n",
    "# Grid test initialisation\n",
    "frame = np.zeros((50,50))\n",
    "frame[10:15,15:30] = 1\n",
    "frame[20:40,25:30] = 1\n",
    "frame[40:45,15:30] = 1\n",
    "\n",
    "\n",
    "\n",
    "# Expand the grid \n",
    "new_frame = lausanne.security_grid_expand(frame)\n",
    "\n",
    "\n",
    "########################\n",
    "## PLOT AND PATH CALCULATION TEST\n",
    "#########################\n",
    "len_i = len(frame)\n",
    "\n",
    "plt.figure()\n",
    "\n",
    "#subplot(r,c) provide the no. of rows and columns\n",
    "f, ax = plt.subplots(2,1) \n",
    "\n",
    "# use the created array to output your multiple images. In this case I have stacked 4 images vertically\n",
    "ax[0].imshow(frame, vmin=0, vmax=1, origin='lower', interpolation='none', alpha=1)\n",
    "ax[1].imshow(new_frame, vmin=0, vmax=1, origin='lower', interpolation='none', alpha=1)\n",
    "plt.draw()\n",
    "\n",
    "path, visitedNodes = op.path_computation(George.get_start() , George.get_goal() , len_i, new_frame)\n",
    "\n",
    "George.set_path(path) \n",
    "George.set_visit_nodes(visitedNodes) \n",
    "\n",
    "# Display the optimal path\n",
    "op.display_map(len_i,  new_frame,  George.get_visit_nodes(), George.get_path(), George.get_start(), George.get_goal())\n",
    "\n",
    "\n",
    "plt.show()\n",
    "\n",
    "\n"
   ]
  },
  {
   "cell_type": "markdown",
   "metadata": {},
   "source": [
    "AFFICHE LA FRAME"
   ]
  },
  {
   "cell_type": "code",
   "execution_count": 13,
   "metadata": {},
   "outputs": [
    {
     "ename": "TypeError",
     "evalue": "load() takes 1 positional argument but 2 were given",
     "output_type": "error",
     "traceback": [
      "\u001b[0;31m---------------------------------------------------------------------------\u001b[0m",
      "\u001b[0;31mTypeError\u001b[0m                                 Traceback (most recent call last)",
      "\u001b[0;32m/var/folders/r3/l17pxy9j13749mq5h96642rc0000gn/T/ipykernel_30499/503073375.py\u001b[0m in \u001b[0;36m<module>\u001b[0;34m\u001b[0m\n\u001b[1;32m     10\u001b[0m \u001b[0;34m\u001b[0m\u001b[0m\n\u001b[1;32m     11\u001b[0m \u001b[0;32mimport\u001b[0m \u001b[0mPIL\u001b[0m\u001b[0;34m.\u001b[0m\u001b[0mImageGrab\u001b[0m\u001b[0;34m\u001b[0m\u001b[0;34m\u001b[0m\u001b[0m\n\u001b[0;32m---> 12\u001b[0;31m \u001b[0mrgb\u001b[0m \u001b[0;34m=\u001b[0m \u001b[0mPIL\u001b[0m\u001b[0;34m.\u001b[0m\u001b[0mImageGrab\u001b[0m\u001b[0;34m.\u001b[0m\u001b[0mgrab\u001b[0m\u001b[0;34m(\u001b[0m\u001b[0;34m)\u001b[0m\u001b[0;34m.\u001b[0m\u001b[0mload\u001b[0m\u001b[0;34m(\u001b[0m\u001b[0mframe\u001b[0m\u001b[0;34m)\u001b[0m\u001b[0;34m\u001b[0m\u001b[0;34m\u001b[0m\u001b[0m\n\u001b[0m\u001b[1;32m     13\u001b[0m \u001b[0;34m\u001b[0m\u001b[0m\n\u001b[1;32m     14\u001b[0m \u001b[0mprint\u001b[0m\u001b[0;34m(\u001b[0m\u001b[0mframe\u001b[0m\u001b[0;34m[\u001b[0m\u001b[0;36m350\u001b[0m\u001b[0;34m,\u001b[0m\u001b[0;36m600\u001b[0m\u001b[0;34m]\u001b[0m\u001b[0;34m)\u001b[0m\u001b[0;34m\u001b[0m\u001b[0;34m\u001b[0m\u001b[0m\n",
      "\u001b[0;31mTypeError\u001b[0m: load() takes 1 positional argument but 2 were given"
     ]
    }
   ],
   "source": [
    "from Map import Map\n",
    "import matplotlib.pyplot as plt\n",
    "import math\n",
    "import cv2\n",
    "import numpy as np\n",
    "import video_frame as vf\n",
    "\n",
    "\n",
    "frame = vf.frame_capture(10,1) \n",
    "\n",
    "\n",
    "print(frame[350,600])"
   ]
  },
  {
   "cell_type": "markdown",
   "metadata": {},
   "source": [
    "PREND UNE PHOTO ET ENREGISTRE"
   ]
  },
  {
   "cell_type": "code",
   "execution_count": 12,
   "metadata": {},
   "outputs": [],
   "source": [
    "import cv2\n",
    "VideoCap=cv2.VideoCapture(0)\n",
    "success,image = VideoCap.read()\n",
    "while success:  \n",
    "  success,image = VideoCap.read()\n",
    "  cv2.imshow('image',image)\n",
    "  keyVal = cv2.waitKey(1) & 0xFF\n",
    "  if keyVal == ord('q'):\n",
    "      cv2.imwrite(\"frame.jpg\", image)  # save frame as JPEG file  \n",
    "      break"
   ]
  },
  {
   "cell_type": "markdown",
   "metadata": {},
   "source": [
    "TEST RESIZING "
   ]
  },
  {
   "cell_type": "code",
   "execution_count": 1,
   "metadata": {},
   "outputs": [
    {
     "name": "stdout",
     "output_type": "stream",
     "text": [
      "start\n",
      "frame dimensions (720, 1280, 3)\n",
      "Mask op\n",
      "Resized Dimensions :  (103, 184)\n",
      "wait end\n"
     ]
    }
   ],
   "source": [
    "from Map import Map\n",
    "from robot import Robot\n",
    "import optimal_path as op\n",
    "#import matplotlib.pyplot as plt\n",
    "#import math\n",
    "import cv2\n",
    "import numpy as np\n",
    "import video_frame as vf\n",
    "\n",
    "George = Robot((47,47),(25,15))\n",
    "lausanne = Map(5,50)\n",
    "\n",
    "print('start')\n",
    "frame = cv2.imread('frame.jpg')\n",
    "\n",
    "######################################################\n",
    "# récupération du mask ---> Fonction Xav \n",
    "\n",
    "blue = 120\n",
    "\n",
    "color = blue\n",
    "sensitivity = 20\n",
    "\n",
    "lo=np.array([color - sensitivity, 50, 50])\n",
    "hi=np.array([color + sensitivity, 255, 255])\n",
    "\n",
    "frame=cv2.cvtColor(frame, cv2.COLOR_BGR2HSV)\n",
    "frame=cv2.blur(frame, (5, 5))\n",
    "mask=cv2.inRange(frame, lo, hi)\n",
    "mask=cv2.erode(mask, None, iterations=2)\n",
    "mask=cv2.dilate(mask, None, iterations=2) \n",
    "    \n",
    "cv2.imshow(\" image\", frame)\n",
    "cv2.imshow(\" image\", mask)\n",
    "\n",
    "print(\"frame dimensions\", frame.shape)\n",
    "\n",
    "# ---------------\n",
    "######################################################\n",
    "print('Mask op')\n",
    "# OP sur le mask\n",
    "\n",
    "lausanne.init_grid(mask)\n",
    "\n",
    "#lausanne.grid_show()\n",
    "cv2.imshow(\" image\", lausanne.get_map())\n",
    "\n",
    "print('wait end')\n",
    "cv2.waitKey(0)\n",
    "cv2.destroyAllWindows()"
   ]
  }
 ],
 "metadata": {
  "interpreter": {
   "hash": "aee8b7b246df8f9039afb4144a1f6fd8d2ca17a180786b69acc140d282b71a49"
  },
  "kernelspec": {
   "display_name": "Python 3.9.7 64-bit",
   "language": "python",
   "name": "python3"
  },
  "language_info": {
   "codemirror_mode": {
    "name": "ipython",
    "version": 3
   },
   "file_extension": ".py",
   "mimetype": "text/x-python",
   "name": "python",
   "nbconvert_exporter": "python",
   "pygments_lexer": "ipython3",
   "version": "3.9.7"
  },
  "orig_nbformat": 4
 },
 "nbformat": 4,
 "nbformat_minor": 2
}
