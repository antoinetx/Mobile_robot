{
 "cells": [
  {
   "cell_type": "markdown",
   "metadata": {},
   "source": [
    "CECI EST UN TEST (bonne version)"
   ]
  },
  {
   "cell_type": "code",
   "execution_count": 7,
   "metadata": {},
   "outputs": [
    {
     "name": "stdout",
     "output_type": "stream",
     "text": [
      "frame ligne 2\n",
      "[174 177 186]\n",
      "frame ligne 100\n",
      "[169 177 189]\n",
      "frame ligne 300\n",
      "[170 178 183]\n",
      "frame ligne 500\n",
      "[168 163 177]\n",
      "frame ligne 700\n",
      "[13 11 21]\n",
      "frame lenght\n",
      "720\n",
      "pixel size\n",
      "14\n",
      "[[1. 1. 1. ... 1. 0. 0.]\n",
      " [1. 1. 1. ... 1. 0. 0.]\n",
      " [1. 1. 1. ... 1. 0. 0.]\n",
      " ...\n",
      " [0. 0. 0. ... 0. 0. 0.]\n",
      " [0. 0. 0. ... 0. 0. 0.]\n",
      " [0. 0. 0. ... 0. 0. 0.]]\n",
      "half done\n",
      "(52, 92)\n"
     ]
    },
    {
     "data": {
      "image/png": "[encoded data removed]",
      "text/plain": [
       "<Figure size 432x288 with 1 Axes>"
      ]
     },
     "metadata": {
      "needs_background": "light"
     },
     "output_type": "display_data"
    },
    {
     "data": {
      "text/plain": [
       "\"\\nwhile True:\\n    \\n    check, frame= VideoCap.read()\\n    \\n\\n    cv2.imshow('image', frame)\\n    \\n\\n    if cv2.waitKey(1)&0xFF==ord('q'):\\n        VideoCap.release()\\n        cv2.destroyAllWindows()\\n        break\\n\""
      ]
     },
     "execution_count": 7,
     "metadata": {},
     "output_type": "execute_result"
    }
   ],
   "source": [
    "import matplotlib.pyplot as plt\n",
    "import math\n",
    "import cv2\n",
    "import numpy as np\n",
    "\n",
    "\n",
    "VideoCap=cv2.VideoCapture(0)\n",
    "VideoCap.isOpened()\n",
    "#print(return_camera_indices())\n",
    "for i in range(10):\n",
    "    check, frame= VideoCap.read()\n",
    "    cv2.imshow('image', frame)\n",
    "\n",
    "VideoCap.release()\n",
    "\n",
    "print(\"frame ligne 2\")\n",
    "print (frame[2,600,:])\n",
    "print(\"frame ligne 100\")\n",
    "print (frame[100,600,:])\n",
    "print(\"frame ligne 300\")\n",
    "print (frame[300,600,:])\n",
    "print(\"frame ligne 500\")\n",
    "print (frame[500,600,:])\n",
    "print(\"frame ligne 700\")\n",
    "print (frame[700,600,:])\n",
    "\n",
    "\n",
    "#cv2.imshow('image', frame)\n",
    "\n",
    "#print(frame.shape)\n",
    "#print(len(frame))\n",
    "#print(len(frame[0]))\n",
    "wanted_nb_square_by_side = 50 # not the exact one\n",
    "square_pixe_size = math.floor(len(frame)/wanted_nb_square_by_side)\n",
    "nb_square_by_side = math.ceil(len(frame)/square_pixe_size)\n",
    "print(\"frame lenght\")\n",
    "print(len(frame))\n",
    "print(\"pixel size\")\n",
    "print(square_pixe_size)\n",
    "min = 150\n",
    "max = 255\n",
    "r_tresh = [min, max]\n",
    "g_tresh = [min, max]\n",
    "b_tresh = [min, max]\n",
    "j_pixel_state, i_pixel_state = 0, 0\n",
    "#print(len(frame))\n",
    "#print(math.ceil(len(frame[0])/square_pixe_size))\n",
    "\n",
    "data_j = np.zeros((len(frame),math.ceil(len(frame[0])/square_pixe_size))) \n",
    "data_i = np.zeros((math.ceil(nb_square_by_side),math.ceil(len(frame[0])/square_pixe_size)))\n",
    "data_iun = data_i\n",
    "\n",
    "for i in range(len(frame)):\n",
    "    for j in range(len(frame[0])):\n",
    "        r = frame[i,j,0]\n",
    "        g = frame[i,j,1]\n",
    "        b = frame[i,j,2]\n",
    "        \n",
    "        if(((r >= r_tresh[0]) & (r <= r_tresh[1])) & ((g >= g_tresh[0]) & (g <= g_tresh[1])) & ((b >= b_tresh[0]) & (b <= b_tresh[1]))):\n",
    "            j_pixel_state = 1\n",
    "        if (j % square_pixe_size == square_pixe_size-1):\n",
    "            \n",
    "            data_j[i,int(((j+1)/square_pixe_size)-1)] = j_pixel_state\n",
    "            j_pixel_state = 0\n",
    "        elif ((j == len(frame[0]) - 1)):\n",
    "            data_j[i,math.ceil((j+1)/square_pixe_size)-1] = j_pixel_state\n",
    "        \n",
    "            \n",
    "print(data_j)\n",
    "\n",
    "#print(len(data_j[1]))\n",
    "print(\"half done\")\n",
    "for j in range(len(data_j[1])):\n",
    "    for i in range(len(frame)):\n",
    "        if(data_j[i,j] == 1):\n",
    "            i_pixel_state = 1\n",
    "        if (i % square_pixe_size == square_pixe_size-1):\n",
    "            data_i[(nb_square_by_side-1)-int(((i+1)/square_pixe_size)-1),j] = i_pixel_state\n",
    "            i_pixel_state = 0     \n",
    "        elif ((i == len(frame) - 1)):\n",
    "            data_i[(nb_square_by_side-1)-(math.ceil((i+1)/square_pixe_size))-1,j] = i_pixel_state   \n",
    "            \n",
    "\n",
    "ogm_drid = data_i\n",
    "print(ogm_drid.shape)\n",
    "#print(ogm_drid)\n",
    "\n",
    "plt.imshow(ogm_drid, vmin=0, vmax=1, origin='lower', interpolation='none', alpha=1)\n",
    "#plt.imshow(ogm_drid)\n",
    "\n",
    "plt.draw()\n",
    "plt.show()\n",
    "\n",
    "cv2.destroyAllWindows()\n",
    "#somme les pixels\n",
    "#new_frame = np.sum(frame, axis = 1)\n",
    "#print(new_frame)\n",
    "\n",
    "\n",
    "\"\"\"\n",
    "while True:\n",
    "    \n",
    "    check, frame= VideoCap.read()\n",
    "    \n",
    "\n",
    "    cv2.imshow('image', frame)\n",
    "    \n",
    "\n",
    "    if cv2.waitKey(1)&0xFF==ord('q'):\n",
    "        VideoCap.release()\n",
    "        cv2.destroyAllWindows()\n",
    "        break\n",
    "\"\"\""
   ]
  },
  {
   "cell_type": "markdown",
   "metadata": {},
   "source": [
    "Ancienne version code du dessus"
   ]
  },
  {
   "cell_type": "code",
   "execution_count": 8,
   "metadata": {},
   "outputs": [
    {
     "name": "stdout",
     "output_type": "stream",
     "text": [
      "frame ligne 2\n",
      "[154 161 172]\n",
      "frame ligne 100\n",
      "[153 162 161]\n",
      "frame ligne 300\n",
      "[18 25 22]\n",
      "frame ligne 500\n",
      "[ 80  86 130]\n",
      "frame ligne 700\n",
      "[63 61 78]\n",
      "frame lenght\n",
      "720\n",
      "pixel size\n",
      "14\n",
      "[[0. 0. 0. ... 0. 0. 0.]\n",
      " [0. 0. 0. ... 0. 0. 0.]\n",
      " [0. 1. 1. ... 0. 0. 0.]\n",
      " ...\n",
      " [1. 1. 1. ... 0. 0. 0.]\n",
      " [1. 1. 1. ... 0. 0. 0.]\n",
      " [1. 1. 1. ... 0. 0. 0.]]\n",
      "half done\n",
      "(52, 92)\n"
     ]
    },
    {
     "data": {
      "image/png": "[encoded data removed]",
      "text/plain": [
       "<Figure size 432x288 with 1 Axes>"
      ]
     },
     "metadata": {
      "needs_background": "light"
     },
     "output_type": "display_data"
    },
    {
     "data": {
      "text/plain": [
       "\"\\nwhile True:\\n    \\n    check, frame= VideoCap.read()\\n    \\n\\n    cv2.imshow('image', frame)\\n    \\n\\n    if cv2.waitKey(1)&0xFF==ord('q'):\\n        VideoCap.release()\\n        cv2.destroyAllWindows()\\n        break\\n\""
      ]
     },
     "execution_count": 8,
     "metadata": {},
     "output_type": "execute_result"
    }
   ],
   "source": [
    "# import OccupancyGridMap\n",
    "import matplotlib.pyplot as plt\n",
    "import math\n",
    "import cv2\n",
    "import numpy as np\n",
    "\n",
    "\n",
    "VideoCap=cv2.VideoCapture(0)\n",
    "VideoCap.isOpened()\n",
    "#print(return_camera_indices())\n",
    "for i in range(10):\n",
    "    check, frame= VideoCap.read()\n",
    "    cv2.imshow('image', frame)\n",
    "\n",
    "VideoCap.release()\n",
    "\n",
    "print(\"frame ligne 2\")\n",
    "print (frame[2,600,:])\n",
    "print(\"frame ligne 100\")\n",
    "print (frame[100,600,:])\n",
    "print(\"frame ligne 300\")\n",
    "print (frame[300,600,:])\n",
    "print(\"frame ligne 500\")\n",
    "print (frame[500,600,:])\n",
    "print(\"frame ligne 700\")\n",
    "print (frame[700,600,:])\n",
    "\n",
    "\n",
    "#cv2.imshow('image', frame)\n",
    "\n",
    "#print(frame.shape)\n",
    "#print(len(frame))\n",
    "#print(len(frame[0]))\n",
    "wanted_nb_square_by_side = 50 # not the exact one\n",
    "square_pixe_size = math.floor(len(frame)/wanted_nb_square_by_side)\n",
    "nb_square_by_side = math.ceil(len(frame)/square_pixe_size)\n",
    "print(\"frame lenght\")\n",
    "print(len(frame))\n",
    "print(\"pixel size\")\n",
    "print(square_pixe_size)\n",
    "min = 150\n",
    "max = 255\n",
    "r_tresh = [min, max]\n",
    "g_tresh = [min, max]\n",
    "b_tresh = [min, max]\n",
    "j_pixel_state, i_pixel_state = 0, 0\n",
    "#print(len(frame))\n",
    "#print(math.ceil(len(frame[0])/square_pixe_size))\n",
    "\n",
    "data_j = np.zeros((len(frame),math.ceil(len(frame[0])/square_pixe_size))) \n",
    "data_i = np.zeros((math.ceil(nb_square_by_side),math.ceil(len(frame[0])/square_pixe_size)))\n",
    "data_iun = data_i\n",
    "\n",
    "for i in range(len(frame)):\n",
    "    for j in range(len(frame[0])):\n",
    "        r = frame[i,j,0]\n",
    "        g = frame[i,j,1]\n",
    "        b = frame[i,j,2]\n",
    "        \n",
    "        if(((r >= r_tresh[0]) & (r <= r_tresh[1])) & ((g >= g_tresh[0]) & (g <= g_tresh[1])) & ((b >= b_tresh[0]) & (b <= b_tresh[1]))):\n",
    "            j_pixel_state = 1\n",
    "        if (j % square_pixe_size == square_pixe_size-1):\n",
    "            \n",
    "            data_j[i,int(((j+1)/square_pixe_size)-1)] = j_pixel_state\n",
    "            j_pixel_state = 0\n",
    "        elif ((j == len(frame[0]) - 1)):\n",
    "            data_j[i,math.ceil((j+1)/square_pixe_size)-1] = j_pixel_state\n",
    "        \n",
    "            \n",
    "print(data_j)\n",
    "\n",
    "#print(len(data_j[1]))\n",
    "print(\"half done\")\n",
    "for j in range(len(data_j[1])):\n",
    "    for i in range(len(frame)):\n",
    "        if(data_j[i,j] == 1):\n",
    "            i_pixel_state = 1\n",
    "        if (i % square_pixe_size == square_pixe_size-1):\n",
    "            data_i[int(((i+1)/square_pixe_size)-1),j] = i_pixel_state\n",
    "            i_pixel_state = 0     \n",
    "        elif ((i == len(frame) - 1)):\n",
    "            data_i[(math.ceil((i+1)/square_pixe_size))-1,j] = i_pixel_state   \n",
    "            \n",
    "\n",
    "ogm_drid = data_i\n",
    "print(ogm_drid.shape)\n",
    "#print(ogm_drid)\n",
    "\n",
    "plt.imshow(ogm_drid, vmin=0, vmax=1, origin='lower', interpolation='none', alpha=1)\n",
    "#plt.imshow(ogm_drid)\n",
    "\n",
    "plt.draw()\n",
    "plt.show()\n",
    "\n",
    "cv2.destroyAllWindows()\n",
    "#somme les pixels\n",
    "#new_frame = np.sum(frame, axis = 1)\n",
    "#print(new_frame)\n",
    "\n",
    "\n",
    "\"\"\"\n",
    "while True:\n",
    "    \n",
    "    check, frame= VideoCap.read()\n",
    "    \n",
    "\n",
    "    cv2.imshow('image', frame)\n",
    "    \n",
    "\n",
    "    if cv2.waitKey(1)&0xFF==ord('q'):\n",
    "        VideoCap.release()\n",
    "        cv2.destroyAllWindows()\n",
    "        break\n",
    "\"\"\""
   ]
  },
  {
   "cell_type": "markdown",
   "metadata": {},
   "source": [
    "Test juste camera"
   ]
  },
  {
   "cell_type": "code",
   "execution_count": 4,
   "metadata": {},
   "outputs": [
    {
     "ename": "KeyboardInterrupt",
     "evalue": "",
     "output_type": "error",
     "traceback": [
      "\u001b[0;31m---------------------------------------------------------------------------\u001b[0m",
      "\u001b[0;31mKeyboardInterrupt\u001b[0m                         Traceback (most recent call last)",
      "\u001b[0;32m/var/folders/r3/l17pxy9j13749mq5h96642rc0000gn/T/ipykernel_19548/3763354434.py\u001b[0m in \u001b[0;36m<module>\u001b[0;34m\u001b[0m\n\u001b[1;32m     14\u001b[0m \u001b[0;34m\u001b[0m\u001b[0m\n\u001b[1;32m     15\u001b[0m \u001b[0;34m\u001b[0m\u001b[0m\n\u001b[0;32m---> 16\u001b[0;31m     \u001b[0;32mif\u001b[0m \u001b[0mcv2\u001b[0m\u001b[0;34m.\u001b[0m\u001b[0mwaitKey\u001b[0m\u001b[0;34m(\u001b[0m\u001b[0;36m1\u001b[0m\u001b[0;34m)\u001b[0m\u001b[0;34m&\u001b[0m\u001b[0;36m0xFF\u001b[0m\u001b[0;34m==\u001b[0m\u001b[0mord\u001b[0m\u001b[0;34m(\u001b[0m\u001b[0;34m'q'\u001b[0m\u001b[0;34m)\u001b[0m\u001b[0;34m:\u001b[0m\u001b[0;34m\u001b[0m\u001b[0;34m\u001b[0m\u001b[0m\n\u001b[0m\u001b[1;32m     17\u001b[0m         \u001b[0mVideoCap\u001b[0m\u001b[0;34m.\u001b[0m\u001b[0mrelease\u001b[0m\u001b[0;34m(\u001b[0m\u001b[0;34m)\u001b[0m\u001b[0;34m\u001b[0m\u001b[0;34m\u001b[0m\u001b[0m\n\u001b[1;32m     18\u001b[0m         \u001b[0mcv2\u001b[0m\u001b[0;34m.\u001b[0m\u001b[0mdestroyAllWindows\u001b[0m\u001b[0;34m(\u001b[0m\u001b[0;34m)\u001b[0m\u001b[0;34m\u001b[0m\u001b[0;34m\u001b[0m\u001b[0m\n",
      "\u001b[0;31mKeyboardInterrupt\u001b[0m: "
     ]
    }
   ],
   "source": [
    "import cv2\n",
    "import numpy as np\n",
    "\n",
    "VideoCap=cv2.VideoCapture(0)\n",
    "VideoCap.isOpened()\n",
    "#i = 0\n",
    "#print(return_camera_indices())\n",
    "while True:\n",
    "    #i = i+1\n",
    "    check, frame= VideoCap.read()\n",
    "    \n",
    "\n",
    "    cv2.imshow('image', frame)\n",
    "    \n",
    "\n",
    "    if cv2.waitKey(1)&0xFF==ord('q'):\n",
    "        VideoCap.release()\n",
    "        cv2.destroyAllWindows()\n",
    "        break\n",
    "    \n",
    "print(frame)\n",
    "VideoCap.release()\n",
    "cv2.destroyAllWindows()"
   ]
  },
  {
   "cell_type": "markdown",
   "metadata": {},
   "source": [
    "TEST POUR LE GRID MAPPPING"
   ]
  },
  {
   "cell_type": "code",
   "execution_count": 4,
   "metadata": {},
   "outputs": [
    {
     "name": "stdout",
     "output_type": "stream",
     "text": [
      "[[0. 0. 0. ... 0. 0. 0.]\n",
      " [0. 0. 0. ... 0. 0. 0.]\n",
      " [0. 0. 0. ... 0. 0. 0.]\n",
      " ...\n",
      " [0. 0. 0. ... 0. 0. 0.]\n",
      " [0. 0. 0. ... 0. 0. 0.]\n",
      " [0. 0. 0. ... 0. 0. 0.]]\n",
      "half done\n"
     ]
    },
    {
     "data": {
      "image/png": "[encoded data removed]",
      "text/plain": [
       "<Figure size 432x288 with 1 Axes>"
      ]
     },
     "metadata": {
      "needs_background": "light"
     },
     "output_type": "display_data"
    }
   ],
   "source": [
    "from Map import Map\n",
    "import matplotlib.pyplot as plt\n",
    "import math\n",
    "import cv2\n",
    "import numpy as np\n",
    "import video_frame as vf\n",
    "\n",
    "lausanne = Map(5,50)\n",
    "\n",
    "# Colors treshold initialisation\n",
    "r = [150, 255]\n",
    "g = [150, 255]\n",
    "b = [150, 255]\n",
    "\n",
    "frame = vf.frame_capture(10,0) \n",
    "\n",
    "lausanne.init_grid(frame, r, g, b)\n",
    "lausanne.grid_show()\n"
   ]
  },
  {
   "cell_type": "markdown",
   "metadata": {},
   "source": [
    "Test basique :"
   ]
  },
  {
   "cell_type": "code",
   "execution_count": 19,
   "metadata": {},
   "outputs": [
    {
     "name": "stdout",
     "output_type": "stream",
     "text": [
      "5\n",
      "4\n",
      "[[0. 0.]\n",
      " [0. 0.]]\n"
     ]
    },
    {
     "ename": "TypeError",
     "evalue": "empty() missing required argument 'shape' (pos 1)",
     "output_type": "error",
     "traceback": [
      "\u001b[0;31m---------------------------------------------------------------------------\u001b[0m",
      "\u001b[0;31mTypeError\u001b[0m                                 Traceback (most recent call last)",
      "\u001b[0;32m/var/folders/r3/l17pxy9j13749mq5h96642rc0000gn/T/ipykernel_19548/388709798.py\u001b[0m in \u001b[0;36m<module>\u001b[0;34m\u001b[0m\n\u001b[1;32m      8\u001b[0m \u001b[0mprint\u001b[0m\u001b[0;34m(\u001b[0m\u001b[0ma\u001b[0m\u001b[0;34m)\u001b[0m\u001b[0;34m\u001b[0m\u001b[0;34m\u001b[0m\u001b[0m\n\u001b[1;32m      9\u001b[0m \u001b[0;34m\u001b[0m\u001b[0m\n\u001b[0;32m---> 10\u001b[0;31m \u001b[0ma\u001b[0m \u001b[0;34m=\u001b[0m \u001b[0mnp\u001b[0m\u001b[0;34m.\u001b[0m\u001b[0mempty\u001b[0m\u001b[0;34m(\u001b[0m\u001b[0;34m)\u001b[0m\u001b[0;34m\u001b[0m\u001b[0;34m\u001b[0m\u001b[0m\n\u001b[0m",
      "\u001b[0;31mTypeError\u001b[0m: empty() missing required argument 'shape' (pos 1)"
     ]
    }
   ],
   "source": [
    "import math \n",
    "#print(round(2.1))\n",
    "\n",
    "print(math.ceil(4.2)) \n",
    "print(math.floor(4.2)) \n",
    "\n",
    "a = np.zeros((2,2))\n",
    "print(a)\n",
    "\n",
    "a = np.empty()\n"
   ]
  },
  {
   "cell_type": "markdown",
   "metadata": {},
   "source": [
    "Test élargir les obstacles"
   ]
  },
  {
   "cell_type": "code",
   "execution_count": 1,
   "metadata": {},
   "outputs": [
    {
     "name": "stdout",
     "output_type": "stream",
     "text": [
      "631\n",
      "[[47 46 45 ... 22 23 24]\n",
      " [47 46 45 ... 18 17 16]]\n"
     ]
    },
    {
     "data": {
      "text/plain": [
       "<Figure size 432x288 with 0 Axes>"
      ]
     },
     "metadata": {},
     "output_type": "display_data"
    },
    {
     "data": {
      "image/png": "[encoded data removed]",
      "text/plain": [
       "<Figure size 432x288 with 2 Axes>"
      ]
     },
     "metadata": {
      "needs_background": "light"
     },
     "output_type": "display_data"
    },
    {
     "data": {
      "image/png": "[encoded data removed]",
      "text/plain": [
       "<Figure size 504x504 with 1 Axes>"
      ]
     },
     "metadata": {
      "needs_background": "light"
     },
     "output_type": "display_data"
    }
   ],
   "source": [
    "from Map import Map\n",
    "from robot import Robot\n",
    "import optimal_path as op\n",
    "import matplotlib.pyplot as plt\n",
    "import math\n",
    "import cv2\n",
    "import numpy as np\n",
    "import video_frame as vf\n",
    "\n",
    "George = Robot((47,47),(25,15))\n",
    "lausanne = Map(5,50)\n",
    "\n",
    "# Grid test initialisation\n",
    "frame = np.zeros((50,50))\n",
    "frame[10:15,15:30] = 1\n",
    "frame[20:40,25:30] = 1\n",
    "frame[40:45,15:30] = 1\n",
    "\n",
    "\n",
    "\n",
    "# Expand the grid \n",
    "new_frame = lausanne.security_grid_expand(frame)\n",
    "\n",
    "\n",
    "########################\n",
    "## PLOT AND PATH CALCULATION TEST\n",
    "#########################\n",
    "len_i = len(frame)\n",
    "\n",
    "plt.figure()\n",
    "\n",
    "#subplot(r,c) provide the no. of rows and columns\n",
    "f, ax = plt.subplots(2,1) \n",
    "\n",
    "# use the created array to output your multiple images. In this case I have stacked 4 images vertically\n",
    "ax[0].imshow(frame, vmin=0, vmax=1, origin='lower', interpolation='none', alpha=1)\n",
    "ax[1].imshow(new_frame, vmin=0, vmax=1, origin='lower', interpolation='none', alpha=1)\n",
    "plt.draw()\n",
    "\n",
    "path, visitedNodes = op.path_computation(George.get_start() , George.get_goal() , len_i, new_frame)\n",
    "\n",
    "George.set_path(path) \n",
    "George.set_visit_nodes(visitedNodes) \n",
    "\n",
    "# Display the optimal path\n",
    "op.display_map(len_i,  new_frame,  George.get_visit_nodes(), George.get_path(), George.get_start(), George.get_goal())\n",
    "\n",
    "\n",
    "plt.show()\n",
    "\n",
    "\n"
   ]
  }
 ],
 "metadata": {
  "interpreter": {
   "hash": "aee8b7b246df8f9039afb4144a1f6fd8d2ca17a180786b69acc140d282b71a49"
  },
  "kernelspec": {
   "display_name": "Python 3.9.7 64-bit",
   "language": "python",
   "name": "python3"
  },
  "language_info": {
   "codemirror_mode": {
    "name": "ipython",
    "version": 3
   },
   "file_extension": ".py",
   "mimetype": "text/x-python",
   "name": "python",
   "nbconvert_exporter": "python",
   "pygments_lexer": "ipython3",
   "version": "3.9.7"
  },
  "orig_nbformat": 4
 },
 "nbformat": 4,
 "nbformat_minor": 2
}
