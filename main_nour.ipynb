{
 "cells": [
  {
   "cell_type": "code",
   "execution_count": 1,
   "metadata": {},
   "outputs": [],
   "source": [
    "import tdmclient.notebook\n",
    "#await tdmclient.notebook.start()"
   ]
  },
  {
   "cell_type": "code",
   "execution_count": 2,
   "metadata": {},
   "outputs": [],
   "source": [
    "\n",
    "import cv2\n",
    "import math\n",
    "\n",
    "import math\n",
    "\n",
    "import numpy as np\n",
    "import matplotlib.pyplot as plt\n",
    "from numpy.core.fromnumeric import size\n",
    "from matplotlib import colors\n",
    "from asgiref.sync import sync_to_async #in order to load variables to communicate between sync and async\n",
    "\n",
    "import optimal_path as op\n",
    "\n",
    "from robot import Robot\n",
    "from Map import Map\n",
    "from Local_navigation import* \n",
    "from Mouvement import*\n",
    "from vision import* \n",
    "from optimal_path import* \n",
    "from KalmanFilter import KalmanFilter\n",
    "\n",
    "\n",
    "#from asgiref.sync import sync_to_async #in order to load variables to communicate between sync and async\n",
    "\n"
   ]
  },
  {
   "cell_type": "code",
   "execution_count": 3,
   "metadata": {},
   "outputs": [],
   "source": [
    "import optimal_path as op\n",
    "\n",
    "from robot import Robot\n",
    "from Map import Map\n",
    "#from Local_navigation import* \n",
    "#from Mouvement import*\n",
    "from vision import* \n",
    "from optimal_path import* \n",
    "\n",
    "\n",
    "\n",
    "map_lenght = 1\n",
    "nb_of_square_by_side = 50\n",
    "current = 1"
   ]
  },
  {
   "cell_type": "code",
   "execution_count": 4,
   "metadata": {},
   "outputs": [],
   "source": [
    "global move \n",
    "move = False #bool which indicate how our robot is moving (1: avoid an object VS 0: following the optimal path)\n",
    "kalman_bool = False\n",
    "#pourcentage_reduc = 1\n",
    "\n",
    "\n",
    "George = Robot()\n",
    "Lausanne = Map(map_lenght, nb_of_square_by_side)\n",
    "\n",
    "#VideoCap = vision_initialization()\n",
    "VideoCap=cv2.VideoCapture(0)\n"
   ]
  },
  {
   "cell_type": "code",
   "execution_count": 5,
   "metadata": {},
   "outputs": [],
   "source": [
    "@tdmclient.notebook.sync_var\n",
    "def motors(l_speed=500, r_speed=500, verbose=False):\n",
    "    \"\"\"\n",
    "    Sets the motor speeds of the Thymio \n",
    "    param l_speed: left motor speed\n",
    "    param r_speed: right motor speed\n",
    "    param verbose: whether to print status messages or not\n",
    "    \"\"\"\n",
    "    global motor_left_target, motor_right_target\n",
    "    # Printing the speeds if requested\n",
    "    if verbose:\n",
    "        print(\"\\t\\t Setting speed : \", l_speed, r_speed)\n",
    "    motor_left_target = l_speed\n",
    "    motor_right_target = r_speed"
   ]
  },
  {
   "cell_type": "code",
   "execution_count": 6,
   "metadata": {},
   "outputs": [],
   "source": [
    "@tdmclient.notebook.sync_var\n",
    "def proxi():\n",
    "    \"\"\"\n",
    "    Returns the proximity values of the Thymio \n",
    "    \"\"\"\n",
    "    global prox_horizontal\n",
    "    return prox_horizontal"
   ]
  },
  {
   "cell_type": "code",
   "execution_count": 7,
   "metadata": {},
   "outputs": [
    {
     "name": "stdout",
     "output_type": "stream",
     "text": [
      "taille frame (480, 640, 3)\n",
      "Waiting robot position\n",
      "goal <class 'vision.Position'>\n",
      "start position (0, 0)\n"
     ]
    }
   ],
   "source": [
    "# Prend une première image\n",
    "ret, frame = VideoCap.read()\n",
    "print(\"taille frame\", frame.shape)\n",
    "\n",
    "# Set the pourcentage value between the nb of pixel and nb of square by side\n",
    "Lausanne.set_map_lenght(frame)\n",
    "#print(\"Pourcentage\",Lausanne.get_pourcentage())\n",
    "# Set the robot goal, position and angle\n",
    "#goal = init_goal(frame, Lausanne.get_pourcentage())\n",
    "#goal = (50, 40)\n",
    "pos_robot = George.get_pos()\n",
    "#print(\"GOAL\", goal)\n",
    "\n",
    "\n",
    "\n",
    "        \n",
    "while (pos_robot[0] < 0) & (pos_robot[1] < 0):\n",
    "    #ret, frame=VideoCap.read()\n",
    "    #display(frame,1,0,0)\n",
    "    ret, frame=VideoCap.read()\n",
    "    \n",
    "    #display(frame,1,0,0)\n",
    "    pos_robot, angle = update(frame, Lausanne.get_pourcentage())  # fonction qui retourne la position angle etc....\n",
    "    print(\"Waiting robot position\") \n",
    "    \n",
    "\n",
    "George.set_angle(angle)\n",
    "George.set_goal(goal)\n",
    "George.set_start_pos(pos_robot)\n",
    "George.set_pos(pos_robot)\n",
    "print (\"goal\", goal)\n",
    "print (\"start position\", pos_robot)\n",
    "\n",
    "# SET MAP\n",
    "Lausanne.set_map_lenght(frame)\n"
   ]
  },
  {
   "cell_type": "code",
   "execution_count": 7,
   "metadata": {},
   "outputs": [],
   "source": []
  },
  {
   "cell_type": "code",
   "execution_count": null,
   "metadata": {},
   "outputs": [],
   "source": [
    "\n"
   ]
  },
  {
   "cell_type": "code",
   "execution_count": null,
   "metadata": {},
   "outputs": [],
   "source": []
  },
  {
   "cell_type": "code",
   "execution_count": 8,
   "metadata": {},
   "outputs": [
    {
     "name": "stdout",
     "output_type": "stream",
     "text": [
      "while start\n",
      "position (53, 26) -0.08090409915523016\n",
      "0.10416666666666667\n"
     ]
    },
    {
     "ename": "AttributeError",
     "evalue": "'NoneType' object has no attribute 'var'",
     "output_type": "error",
     "traceback": [
      "\u001b[1;31m---------------------------------------------------------------------------\u001b[0m",
      "\u001b[1;31mAttributeError\u001b[0m                            Traceback (most recent call last)",
      "\u001b[1;32m~\\AppData\\Local\\Temp/ipykernel_29436/749043642.py\u001b[0m in \u001b[0;36m<module>\u001b[1;34m\u001b[0m\n\u001b[0;32m     39\u001b[0m     \u001b[0mprint\u001b[0m \u001b[1;33m(\u001b[0m\u001b[0mLausanne\u001b[0m\u001b[1;33m.\u001b[0m\u001b[0mget_pourcentage\u001b[0m\u001b[1;33m(\u001b[0m\u001b[1;33m)\u001b[0m\u001b[1;33m)\u001b[0m\u001b[1;33m\u001b[0m\u001b[1;33m\u001b[0m\u001b[0m\n\u001b[0;32m     40\u001b[0m \u001b[1;33m\u001b[0m\u001b[0m\n\u001b[1;32m---> 41\u001b[1;33m     \u001b[0mproximity\u001b[0m \u001b[1;33m=\u001b[0m \u001b[0mproxi\u001b[0m\u001b[1;33m(\u001b[0m\u001b[1;33m)\u001b[0m\u001b[1;33m\u001b[0m\u001b[1;33m\u001b[0m\u001b[0m\n\u001b[0m\u001b[0;32m     42\u001b[0m     \"\"\"\n\u001b[0;32m     43\u001b[0m         \u001b[1;31m#LOCAL NAVIGATION\u001b[0m\u001b[1;33m\u001b[0m\u001b[1;33m\u001b[0m\u001b[0m\n",
      "\u001b[1;32m~\\AppData\\Local\\Programs\\Python\\Python310\\lib\\site-packages\\tdmclient\\notebook\\__init__.py\u001b[0m in \u001b[0;36mfunc_wrapper\u001b[1;34m(*args, **kwargs)\u001b[0m\n\u001b[0;32m    157\u001b[0m     \u001b[1;32mdef\u001b[0m \u001b[0mfunc_wrapper\u001b[0m\u001b[1;33m(\u001b[0m\u001b[1;33m*\u001b[0m\u001b[0margs\u001b[0m\u001b[1;33m,\u001b[0m \u001b[1;33m**\u001b[0m\u001b[0mkwargs\u001b[0m\u001b[1;33m)\u001b[0m\u001b[1;33m:\u001b[0m\u001b[1;33m\u001b[0m\u001b[1;33m\u001b[0m\u001b[0m\n\u001b[0;32m    158\u001b[0m         \u001b[0mnode\u001b[0m \u001b[1;33m=\u001b[0m \u001b[0mget_node\u001b[0m\u001b[1;33m(\u001b[0m\u001b[1;33m)\u001b[0m\u001b[1;33m\u001b[0m\u001b[1;33m\u001b[0m\u001b[0m\n\u001b[1;32m--> 159\u001b[1;33m         \u001b[0mvars_to_sync\u001b[0m \u001b[1;33m=\u001b[0m \u001b[0mcandidates\u001b[0m \u001b[1;33m&\u001b[0m \u001b[1;33m{\u001b[0m\u001b[0m_interactive_console\u001b[0m\u001b[1;33m.\u001b[0m\u001b[0mto_python_name\u001b[0m\u001b[1;33m(\u001b[0m\u001b[0mname\u001b[0m\u001b[1;33m)\u001b[0m \u001b[1;32mfor\u001b[0m \u001b[0mname\u001b[0m \u001b[1;32min\u001b[0m \u001b[0mnode\u001b[0m\u001b[1;33m.\u001b[0m\u001b[0mvar\u001b[0m\u001b[1;33m.\u001b[0m\u001b[0mkeys\u001b[0m\u001b[1;33m(\u001b[0m\u001b[1;33m)\u001b[0m\u001b[1;33m}\u001b[0m\u001b[1;33m\u001b[0m\u001b[1;33m\u001b[0m\u001b[0m\n\u001b[0m\u001b[0;32m    160\u001b[0m         \u001b[0m_interactive_console\u001b[0m\u001b[1;33m.\u001b[0m\u001b[0mfetch_variables\u001b[0m\u001b[1;33m(\u001b[0m\u001b[0mvars_to_sync\u001b[0m\u001b[1;33m)\u001b[0m\u001b[1;33m\u001b[0m\u001b[1;33m\u001b[0m\u001b[0m\n\u001b[0;32m    161\u001b[0m         \u001b[0mr\u001b[0m \u001b[1;33m=\u001b[0m \u001b[0mfunc\u001b[0m\u001b[1;33m(\u001b[0m\u001b[1;33m*\u001b[0m\u001b[0margs\u001b[0m\u001b[1;33m,\u001b[0m \u001b[1;33m**\u001b[0m\u001b[0mkwargs\u001b[0m\u001b[1;33m)\u001b[0m\u001b[1;33m\u001b[0m\u001b[1;33m\u001b[0m\u001b[0m\n",
      "\u001b[1;31mAttributeError\u001b[0m: 'NoneType' object has no attribute 'var'"
     ]
    }
   ],
   "source": [
    "\n",
    "\n",
    "####################################\n",
    "## while\n",
    "####################################\n",
    "\n",
    "\n",
    "kalman_bool = False\n",
    "old_distance, old_angle  = 0,0 \n",
    "compteur = 0\n",
    "\n",
    "print('while start')\n",
    "while True:#(George.get_pos() != George.get_goal()):\n",
    "    \n",
    "    # Read the camera\n",
    "    ret, frame=VideoCap.read()\n",
    "    \n",
    "    # Reupere la position et angle --> XAV\n",
    "    #x_robot, y_robot,angle_robot = update(frame, Lausanne.get_pourcentage(), kalman_bool)\n",
    "    pos_robot,angle_robot = update(frame, Lausanne.get_pourcentage())\n",
    "    George.set_pos(pos_robot)\n",
    "    George.set_angle(angle_robot)\n",
    "    print ('position',pos_robot ,angle_robot)\n",
    "    #display (frame, 0, 1, 1, 1, path, Lausanne.get_pourcentage())\n",
    "\n",
    "    \n",
    "    # Current goal update --> ANTOINE\n",
    "    \n",
    "    \n",
    "    # Check obstacle --> ALICIA\n",
    "    \n",
    "    # Faire avancer --> NOUR\n",
    "    \n",
    "    \n",
    "    \n",
    "    \n",
    "        #LOCAL NAVIGATION\n",
    "        #Thymio is following the optimal path\n",
    "    goal_nour = np.array([[20],[30]])\n",
    "    display (frame, 0, 1, 1, 1, goal_nour, Lausanne.get_pourcentage())\n",
    "    print (Lausanne.get_pourcentage())\n",
    "    \n",
    "    proximity = proxi()\n",
    "    \"\"\"\n",
    "        #LOCAL NAVIGATION\n",
    "    if move:\n",
    "        #Thymio is avoiding obstacles\n",
    "        speed_l, speed_r, move, compteur = avoid_obstacle(compteur, prox_horizonta=proximity) \n",
    "    else:\n",
    "        compteur = 0\n",
    "        #Thymio is following the optimal path\n",
    "        speed_l, speed_r, old_distance, old_angle  = move_to_position(pos_robot, angle_robot, goal_nour, old_distance, old_angle)\n",
    "        #Thymio is checking if there's an obstacle in front of it\n",
    "        move = check_cars(prox_horizonta=proximity)\n",
    "        print (speed_l, speed_r)\n",
    "    \n",
    "    \n",
    "\n",
    "    #speed_l, speed_r, old_distance, old_goal  = move_to_position(pos_robot, angle_robot, pos_goal, old_distance, old_angle)\n",
    "    motors(speed_l, speed_r)\n",
    "    print (speed_l, speed_r)\n",
    "    \"\"\"\n",
    "    \n",
    "    # Quit when we press q\n",
    "    keyVal = cv2.waitKey(1) & 0xFF\n",
    "    if keyVal == ord('q'):\n",
    "        motors(0,0)\n",
    "        break\n",
    "     \n",
    "    sleep(0.1)\n",
    "\n",
    "print(\"The End\")\n",
    "   \n",
    "\n",
    "    "
   ]
  },
  {
   "cell_type": "code",
   "execution_count": 9,
   "metadata": {},
   "outputs": [],
   "source": [
    "motors(0,0)"
   ]
  },
  {
   "cell_type": "code",
   "execution_count": null,
   "metadata": {},
   "outputs": [],
   "source": []
  }
 ],
 "metadata": {
  "kernelspec": {
   "display_name": "Python 3 (ipykernel)",
   "language": "python",
   "name": "python3"
  },
  "language_info": {
   "codemirror_mode": {
    "name": "ipython",
    "version": 3
   },
   "file_extension": ".py",
   "mimetype": "text/x-python",
   "name": "python",
   "nbconvert_exporter": "python",
   "pygments_lexer": "ipython3",
   "version": "3.10.0"
  }
 },
 "nbformat": 4,
 "nbformat_minor": 2
}
