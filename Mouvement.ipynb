{
 "cells": [
  {
   "cell_type": "code",
   "execution_count": 1,
   "metadata": {},
   "outputs": [
    {
     "name": "stdout",
     "output_type": "stream",
     "text": [
      "Requirement already satisfied: tdmclient in c:\\users\\nourt\\appdata\\local\\programs\\python\\python310\\lib\\site-packages (0.1.11)\n",
      "Requirement already satisfied: zeroconf in c:\\users\\nourt\\appdata\\local\\programs\\python\\python310\\lib\\site-packages (from tdmclient) (0.36.9)\n",
      "Requirement already satisfied: ifaddr>=0.1.7 in c:\\users\\nourt\\appdata\\local\\programs\\python\\python310\\lib\\site-packages (from zeroconf->tdmclient) (0.1.7)\n"
     ]
    }
   ],
   "source": [
    "!pip install --upgrade tdmclient"
   ]
  },
  {
   "cell_type": "code",
   "execution_count": null,
   "metadata": {},
   "outputs": [],
   "source": [
    "!pip install asgiref"
   ]
  },
  {
   "cell_type": "markdown",
   "metadata": {},
   "source": [
    "To connect to the robot"
   ]
  },
  {
   "cell_type": "code",
   "execution_count": 1,
   "metadata": {},
   "outputs": [],
   "source": [
    "import tdmclient.notebook\n",
    "await tdmclient.notebook.start()"
   ]
  },
  {
   "cell_type": "markdown",
   "metadata": {},
   "source": [
    "In order to use sync_to_async"
   ]
  },
  {
   "cell_type": "code",
   "execution_count": 2,
   "metadata": {},
   "outputs": [],
   "source": [
    "from asgiref.sync import sync_to_async "
   ]
  },
  {
   "cell_type": "code",
   "execution_count": 3,
   "metadata": {},
   "outputs": [],
   "source": [
    "import matplotlib.pyplot as plt\n",
    "import numpy as np\n",
    "from random import random"
   ]
  },
  {
   "cell_type": "markdown",
   "metadata": {},
   "source": [
    "To test the code"
   ]
  },
  {
   "cell_type": "code",
   "execution_count": 4,
   "metadata": {},
   "outputs": [],
   "source": [
    "test_functions = True"
   ]
  },
  {
   "cell_type": "markdown",
   "metadata": {},
   "source": [
    "Test that the motors work"
   ]
  },
  {
   "cell_type": "code",
   "execution_count": 5,
   "metadata": {},
   "outputs": [],
   "source": [
    "@tdmclient.notebook.sync_var\n",
    "def motors(l_speed=500, r_speed=500, verbose=False):\n",
    "    \"\"\"\n",
    "    Sets the motor speeds of the Thymio \n",
    "    param l_speed: left motor speed\n",
    "    param r_speed: right motor speed\n",
    "    param verbose: whether to print status messages or not\n",
    "    \"\"\"\n",
    "    global motor_left_target, motor_right_target\n",
    "    # Printing the speeds if requested\n",
    "    if verbose:\n",
    "        print(\"\\t\\t Setting speed : \", l_speed, r_speed)\n",
    "    motor_left_target = l_speed\n",
    "    motor_right_target = r_speed\n",
    "\n",
    "if test_functions:\n",
    "    motors(100, 100) #test with lower speed value\n",
    "    sleep(2)\n",
    "    motors(0, 0)"
   ]
  },
  {
   "cell_type": "markdown",
   "metadata": {},
   "source": [
    "## Move from point A to point B"
   ]
  },
  {
   "cell_type": "markdown",
   "metadata": {},
   "source": [
    "Global Variables\n"
   ]
  },
  {
   "cell_type": "code",
   "execution_count": 6,
   "metadata": {},
   "outputs": [],
   "source": [
    "# simulation parameters \n",
    "KP_dist = 9\n",
    "KP_alpha = 30\n",
    "dt = 0.01\n",
    "BASICSPEED = 100\n",
    "GAIN = 10\n",
    "\n",
    "WIDTH_ROBOT = 10\n",
    "MAX_Y = 480\n",
    "MAX_X = 640"
   ]
  },
  {
   "cell_type": "code",
   "execution_count": 17,
   "metadata": {},
   "outputs": [],
   "source": [
    "@tdmclient.notebook.sync_var\n",
    "def initialization_motor(x,y,theta):\n",
    "     # initialisation_motors\n",
    "    if (theta <= np.pi/2 and theta >= 0):\n",
    "        y_left = y + abs(np.cos(theta))*(WIDTH_ROBOT/2)\n",
    "        x_left = x - abs(np.sin(theta))*(WIDTH_ROBOT/2)\n",
    "        y_right = y - abs(np.cos(theta))*(WIDTH_ROBOT/2)\n",
    "        x_right = x + abs(np.sin(theta))*(WIDTH_ROBOT/2)\n",
    "    \n",
    "    if (theta <= np.pi and theta >= np.pi/2):\n",
    "        y_left = y - abs(np.cos(np.pi-theta))*(WIDTH_ROBOT/2)\n",
    "        x_left = x - abs(np.sin(np.pi-theta))*(WIDTH_ROBOT/2)\n",
    "        y_right = y + abs(np.cos(np.pi-theta))*(WIDTH_ROBOT/2)\n",
    "        x_right = x + abs(np.sin(np.pi-theta))*(WIDTH_ROBOT/2)\n",
    "        \n",
    "    if (theta >= -np.pi/2 and theta <= 0):\n",
    "        y_left = y + abs(np.cos(theta))*(WIDTH_ROBOT/2)\n",
    "        x_left = x + abs(np.sin(theta))*(WIDTH_ROBOT/2)\n",
    "        y_right = y - abs(np.cos(theta))*(WIDTH_ROBOT/2)\n",
    "        x_right = x - abs(np.sin(theta))*(WIDTH_ROBOT/2)\n",
    "        \n",
    "    if (theta <= -np.pi/2 and theta >= -np.pi):\n",
    "        y_left = y - abs(np.sin(theta- np.pi/2))*(WIDTH_ROBOT/2)\n",
    "        x_left = x + abs(np.cos(theta- np,pi/2))*(WIDTH_ROBOT/2)\n",
    "        y_right = y + abs(np.sin(theta-np.pi/2))*(WIDTH_ROBOT/2)\n",
    "        x_right = x - abs(np.sin(theta - np.pi/2))*(WIDTH_ROBOT/2)\n",
    "\n",
    "        \n",
    "    return x_right, x_left, y_right, y_left\n",
    "\n",
    "@tdmclient.notebook.sync_var\n",
    "def compute_distance(x_goal, y_goal, x, y):\n",
    "    x_diff = x_goal - x\n",
    "    y_diff = y_goal - y\n",
    "    dist = np.hypot(x_diff, y_diff)\n",
    "    \n",
    "    return dist\n",
    "\n",
    "@tdmclient.notebook.sync_var\n",
    "def move_to_position(x_robot, y_robot, angle_robot, x_goal, y_goal):\n",
    "    \"\"\"\n",
    "    dist is the distance between the robot and the goal position\n",
    "    alpha is the angle to the goal respectively to the angle of the robot\n",
    "    beta is the angle between the robot's position and the goal position + goal angle\n",
    "    \n",
    "    Kp_dist * dist and Kp_alpha * alpha drive the robot along a line towards the goal\n",
    "\n",
    "    \"\"\"\n",
    "    # initialisation_center\n",
    "    x = x_robot\n",
    "    y = y_robot\n",
    "    theta = angle_robot # voir comment imposer entre [-pi, pi]\n",
    "    \n",
    "    x_right, x_left , y_right, y_left = initialization_motor(x,y,theta)\n",
    "        \n",
    "    # distance computation respectively to the center\n",
    "    dist_center = compute_distance(x_goal, y_goal, x, y)\n",
    "    x_traj, y_traj = [], []\n",
    "    \n",
    "    # distance computation respectively to the right wheel    \n",
    "    dist_right = compute_distance(x_goal, y_goal, x_right, y_right) \n",
    "    x_traj_right, y_traj_right = [], []\n",
    "    \n",
    "    # distance computation respectively to the left wheel \n",
    "    dist_left = compute_distance(x_goal, y_goal, x_left, y_left)\n",
    "    x_traj_left, y_traj_left = [], []\n",
    "    \n",
    "    while dist_center > 1 :\n",
    "        x_traj.append(x)\n",
    "        y_traj.append(y)\n",
    "\n",
    "        # update the distance \n",
    "        dist_center = compute_distance(x_goal, y_goal, x, y)\n",
    "        dist_right = compute_distance(x_goal, y_goal, x_right, y_right)\n",
    "        dist_left = compute_distance(x_goal, y_goal, x_left, y_left)\n",
    "\n",
    "        # definition of angle alpha\n",
    "        x_diff = x_goal - x\n",
    "        y_diff = y_goal - y\n",
    "        alpha = ( np.arctan2(y_diff, x_diff) - theta +np.pi) % (2*np.pi) - np.pi\n",
    "\n",
    "        v = KP_dist * dist_center\n",
    "        w = KP_alpha * alpha\n",
    "        \n",
    "        #speed_l = int(BASICSPEED + GAIN * KP_dist * dist_left)\n",
    "        #speed_r = int(BASICSPEED + GAIN * KP_dist * dist_right)\n",
    "        \n",
    "        speed_l = int(BASICSPEED + GAIN * KP_dist * dist_center)\n",
    "        speed_r = int(BASICSPEED - GAIN * KP_dist * dist_center)\n",
    "\n",
    "        theta = theta + w * dt\n",
    "        x = x + v * np.cos(theta) * dt\n",
    "        y = y + v * np.sin(theta) * dt\n",
    "        x_right, x_left , y_right, y_left = initialization_motor(x,y,theta)\n",
    "                    \n",
    "        motors(speed_l,speed_r)\n",
    "\n",
    "    if dist_center <= 1 :\n",
    "        motors(0,0)\n",
    "\n",
    "        \n",
    "if test_functions :\n",
    "    move_to_position(0,0,0,2000,100)"
   ]
  },
  {
   "cell_type": "code",
   "execution_count": null,
   "metadata": {},
   "outputs": [],
   "source": []
  },
  {
   "cell_type": "code",
   "execution_count": null,
   "metadata": {},
   "outputs": [],
   "source": []
  }
 ],
 "metadata": {
  "hide_input": false,
  "kernelspec": {
   "display_name": "Python 3 (ipykernel)",
   "language": "python",
   "name": "python3"
  },
  "language_info": {
   "codemirror_mode": {
    "name": "ipython",
    "version": 3
   },
   "file_extension": ".py",
   "mimetype": "text/x-python",
   "name": "python",
   "nbconvert_exporter": "python",
   "pygments_lexer": "ipython3",
   "version": "3.10.0"
  },
  "toc": {
   "base_numbering": 1,
   "nav_menu": {},
   "number_sections": true,
   "sideBar": true,
   "skip_h1_title": false,
   "title_cell": "Table of Contents",
   "title_sidebar": "Contents",
   "toc_cell": true,
   "toc_position": {},
   "toc_section_display": true,
   "toc_window_display": true
  }
 },
 "nbformat": 4,
 "nbformat_minor": 4
}
