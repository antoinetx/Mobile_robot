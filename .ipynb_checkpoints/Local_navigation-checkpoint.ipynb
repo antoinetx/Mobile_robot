{
 "cells": [
  {
   "cell_type": "markdown",
   "metadata": {},
   "source": [
    "Implementation of **Local Navigation**\n",
    "\n",
    "Author: Alicia Mauroux, Robotic MA1, Fall 2021"
   ]
  },
  {
   "cell_type": "code",
   "execution_count": null,
   "metadata": {},
   "outputs": [],
   "source": [
    "param = {\"prox\": 12}\n",
    "params[\"prox\"]"
   ]
  },
  {
   "cell_type": "markdown",
   "metadata": {},
   "source": [
    "Connecting to Thymio"
   ]
  },
  {
   "cell_type": "code",
   "execution_count": 15,
   "metadata": {},
   "outputs": [],
   "source": [
    "import tdmclient.notebook\n",
    "await tdmclient.notebook.start()"
   ]
  },
  {
   "cell_type": "markdown",
   "metadata": {},
   "source": [
    "In order to use sync_to_async"
   ]
  },
  {
   "cell_type": "code",
   "execution_count": 16,
   "metadata": {},
   "outputs": [],
   "source": [
    "from asgiref.sync import sync_to_async"
   ]
  },
  {
   "cell_type": "markdown",
   "metadata": {},
   "source": [
    "In order to do the tests:"
   ]
  },
  {
   "cell_type": "code",
   "execution_count": 3,
   "metadata": {},
   "outputs": [],
   "source": [
    "test_functions = True"
   ]
  },
  {
   "cell_type": "markdown",
   "metadata": {},
   "source": [
    "# Functions in order to test the local avoidance"
   ]
  },
  {
   "cell_type": "code",
   "execution_count": 4,
   "metadata": {},
   "outputs": [],
   "source": [
    "@tdmclient.notebook.sync_var\n",
    "def motors(l_speed=500, r_speed=500, verbose=False):\n",
    "    \"\"\"\n",
    "    Sets the motor speeds of the Thymio \n",
    "    param l_speed: left motor speed\n",
    "    param r_speed: right motor speed\n",
    "    param verbose: whether to print status messages or not\n",
    "    \"\"\"\n",
    "    global motor_left_target, motor_right_target\n",
    "    # Printing the speeds if requested\n",
    "    if verbose:\n",
    "        print(\"\\t\\t Setting speed : \", l_speed, r_speed)\n",
    "    motor_left_target = l_speed\n",
    "    motor_right_target = r_speed\n",
    "\n",
    "if test_functions:\n",
    "    motors(100, 100) #test with lower speed value\n",
    "    sleep(2)\n",
    "    motors(0, 0)"
   ]
  },
  {
   "cell_type": "markdown",
   "metadata": {},
   "source": [
    "# Local Navigation"
   ]
  },
  {
   "cell_type": "markdown",
   "metadata": {},
   "source": [
    "### Global variables and constants"
   ]
  },
  {
   "cell_type": "code",
   "execution_count": 5,
   "metadata": {},
   "outputs": [],
   "source": [
    "LED = 32\n",
    "SMALL_LED = 2\n",
    "\n",
    "left_obstacle = False\n",
    "right_obstacle = False\n",
    "Bloqued = False\n",
    "side = 2 #0 : Thymio turned left / 1: Thymio turned right\n",
    "run = 0\n"
   ]
  },
  {
   "cell_type": "code",
   "execution_count": 6,
   "metadata": {},
   "outputs": [],
   "source": [
    "@tdmclient.notebook.sync_var\n",
    "def light_em_up(avoid=0,right=0,wait=0):\n",
    "    global leds_top, leds_buttons, leds_circle\n",
    "    leds_top = [0,LED,LED]\n",
    "    if(wait):\n",
    "        leds_circle = [SMALL_LED, SMALL_LED, LED, SMALL_LED, SMALL_LED, SMALL_LED, LED, SMALL_LED]\n",
    "    else:\n",
    "        leds_circle = [0, 0, 0, 0, 0, 0, 0, 0]\n",
    "    if(avoid):\n",
    "        leds_top = [LED,0,LED]\n",
    "    else:\n",
    "        leds_top = [0,LED,LED]\n",
    "        "
   ]
  },
  {
   "cell_type": "code",
   "execution_count": 30,
   "metadata": {},
   "outputs": [],
   "source": [
    "%%run_python\n",
    "\n",
    "nf_sound_play(5)"
   ]
  },
  {
   "cell_type": "code",
   "execution_count": 25,
   "metadata": {},
   "outputs": [
    {
     "ename": "NameError",
     "evalue": "name 'nf_sound_system' is not defined",
     "output_type": "error",
     "traceback": [
      "\u001b[0;31m---------------------------------------------------------------------------\u001b[0m",
      "\u001b[0;31mNameError\u001b[0m                                 Traceback (most recent call last)",
      "\u001b[0;32m/var/folders/w4/rlzv9syd0416nt9tchvspk1m0000gn/T/ipykernel_43211/2516490059.py\u001b[0m in \u001b[0;36m<module>\u001b[0;34m\u001b[0m\n\u001b[0;32m----> 1\u001b[0;31m \u001b[0mplay_music\u001b[0m\u001b[0;34m(\u001b[0m\u001b[0;34m)\u001b[0m\u001b[0;34m\u001b[0m\u001b[0;34m\u001b[0m\u001b[0m\n\u001b[0m",
      "\u001b[0;32m~/Library/Python/3.8/lib/python/site-packages/tdmclient/notebook/__init__.py\u001b[0m in \u001b[0;36mfunc_wrapper\u001b[0;34m(*args, **kwargs)\u001b[0m\n\u001b[1;32m    159\u001b[0m         \u001b[0mvars_to_sync\u001b[0m \u001b[0;34m=\u001b[0m \u001b[0mcandidates\u001b[0m \u001b[0;34m&\u001b[0m \u001b[0;34m{\u001b[0m\u001b[0m_interactive_console\u001b[0m\u001b[0;34m.\u001b[0m\u001b[0mto_python_name\u001b[0m\u001b[0;34m(\u001b[0m\u001b[0mname\u001b[0m\u001b[0;34m)\u001b[0m \u001b[0;32mfor\u001b[0m \u001b[0mname\u001b[0m \u001b[0;32min\u001b[0m \u001b[0mnode\u001b[0m\u001b[0;34m.\u001b[0m\u001b[0mvar\u001b[0m\u001b[0;34m.\u001b[0m\u001b[0mkeys\u001b[0m\u001b[0;34m(\u001b[0m\u001b[0;34m)\u001b[0m\u001b[0;34m}\u001b[0m\u001b[0;34m\u001b[0m\u001b[0;34m\u001b[0m\u001b[0m\n\u001b[1;32m    160\u001b[0m         \u001b[0m_interactive_console\u001b[0m\u001b[0;34m.\u001b[0m\u001b[0mfetch_variables\u001b[0m\u001b[0;34m(\u001b[0m\u001b[0mvars_to_sync\u001b[0m\u001b[0;34m)\u001b[0m\u001b[0;34m\u001b[0m\u001b[0;34m\u001b[0m\u001b[0m\n\u001b[0;32m--> 161\u001b[0;31m         \u001b[0mr\u001b[0m \u001b[0;34m=\u001b[0m \u001b[0mfunc\u001b[0m\u001b[0;34m(\u001b[0m\u001b[0;34m*\u001b[0m\u001b[0margs\u001b[0m\u001b[0;34m,\u001b[0m \u001b[0;34m**\u001b[0m\u001b[0mkwargs\u001b[0m\u001b[0;34m)\u001b[0m\u001b[0;34m\u001b[0m\u001b[0;34m\u001b[0m\u001b[0m\n\u001b[0m\u001b[1;32m    162\u001b[0m         \u001b[0m_interactive_console\u001b[0m\u001b[0;34m.\u001b[0m\u001b[0msend_variables\u001b[0m\u001b[0;34m(\u001b[0m\u001b[0mvars_to_sync\u001b[0m\u001b[0;34m)\u001b[0m\u001b[0;34m\u001b[0m\u001b[0;34m\u001b[0m\u001b[0m\n\u001b[1;32m    163\u001b[0m         \u001b[0;32mreturn\u001b[0m \u001b[0mr\u001b[0m\u001b[0;34m\u001b[0m\u001b[0;34m\u001b[0m\u001b[0m\n",
      "\u001b[0;32m/var/folders/w4/rlzv9syd0416nt9tchvspk1m0000gn/T/ipykernel_43211/2545869410.py\u001b[0m in \u001b[0;36mplay_music\u001b[0;34m()\u001b[0m\n\u001b[1;32m      2\u001b[0m \u001b[0;32mdef\u001b[0m \u001b[0mplay_music\u001b[0m\u001b[0;34m(\u001b[0m\u001b[0;34m)\u001b[0m\u001b[0;34m:\u001b[0m\u001b[0;34m\u001b[0m\u001b[0;34m\u001b[0m\u001b[0m\n\u001b[1;32m      3\u001b[0m     \u001b[0;32mglobal\u001b[0m \u001b[0msound_system\u001b[0m\u001b[0;34m\u001b[0m\u001b[0;34m\u001b[0m\u001b[0m\n\u001b[0;32m----> 4\u001b[0;31m     \u001b[0mnf_sound_system\u001b[0m\u001b[0;34m(\u001b[0m\u001b[0;36m5\u001b[0m\u001b[0;34m)\u001b[0m\u001b[0;34m\u001b[0m\u001b[0;34m\u001b[0m\u001b[0m\n\u001b[0m",
      "\u001b[0;31mNameError\u001b[0m: name 'nf_sound_system' is not defined"
     ]
    }
   ],
   "source": [
    "play_music()"
   ]
  },
  {
   "cell_type": "markdown",
   "metadata": {},
   "source": [
    "### Check cars\n",
    "This function will check if there's something in front of Thymio. If there's, it will return **TRUE** and take the control of the Thymio. If there's nothing, it will return **FALSE** and let the control to optimal path"
   ]
  },
  {
   "cell_type": "code",
   "execution_count": 8,
   "metadata": {},
   "outputs": [],
   "source": [
    "@tdmclient.notebook.sync_var\n",
    "def check_cars(state=1, Tres_high=1400, Tres_mid_side_high=1500, Tres_low=1500, Tres_mid_side_low=1000, Tres_side_high=2000):\n",
    "    global prox_horizontal\n",
    "\n",
    " \n",
    "    if((prox_horizontal[2]>Tres_high)or(prox_horizontal[1]>Tres_mid_side_high)or(prox_horizontal[3]>Tres_mid_side_high)):\n",
    "        return True        \n",
    "    #There's something in front of Thymio --> avoid_function take the control\n",
    "    else:\n",
    "        return False\n",
    "    #There's nothting, Thymio continue its normal ways "
   ]
  },
  {
   "cell_type": "code",
   "execution_count": 9,
   "metadata": {},
   "outputs": [],
   "source": [
    "if not (test_functions):\n",
    "    t = True\n",
    "    i = 0\n",
    "    while(t):\n",
    "        print(check_cars())\n",
    "        sleep(1)\n",
    "        i = i+1\n",
    "        if i>10:\n",
    "            t = False"
   ]
  },
  {
   "cell_type": "markdown",
   "metadata": {},
   "source": [
    "### Avoid function\n",
    "This function will check to the left/right if there's a \"Thymio-car\" so our Thymio can avoid the car in front of it. If there's a \"Thymio-car\" in front of it and on its left/right, our Thymio will wait until the way to the left/right is free again.\n",
    "\n",
    "**We call this function when check_cars() = True otherwise we call the logical path**"
   ]
  },
  {
   "cell_type": "code",
   "execution_count": 11,
   "metadata": {},
   "outputs": [],
   "source": [
    "@tdmclient.notebook.sync_var\n",
    "def avoid_obstacle(Tres_side_high=1200, Tres_side_low=500, Tres_low=1500, Tres = 100):\n",
    "    global left_obstacle, right_obstacle, prox_horizontal, sound_system\n",
    "    speed0 = 100       # nominal speed\n",
    "    obstSpeedGain = 5  # /100 (actual gain: 5/100=0.05)\n",
    "    \n",
    "    #play_music()\n",
    "    \n",
    "    # acquisition from the proximity sensors to detect obstacles\n",
    "    obst = [prox_horizontal[0], prox_horizontal[4], prox_horizontal[2],prox_horizontal[1], prox_horizontal[3]]\n",
    "    \n",
    "    #check left (in order to know if Thymio is bloqued)\n",
    "    if(obst[0]>Tres_side_high):\n",
    "        left_obstacle = True\n",
    "    elif(obst[0]<Tres_side_low):\n",
    "        left_obstacle = False\n",
    "        \n",
    "    #check right (in order to know if Thymio is bloqued)\n",
    "    if(obst[1]>Tres_side_high):\n",
    "        right_obstacle = True\n",
    "    elif(obst[1]<Tres_side_low):\n",
    "        right_obstacle = False\n",
    "    \n",
    "            \n",
    "    speed_l = speed0 + obstSpeedGain * int(0.9*obst[0]//100 + 0.1*obst[3]//100)\n",
    "    speed_r = speed0 + obstSpeedGain * int(0.9*obst[1]//100 + 0.1*obst[4]//100)\n",
    "    \n",
    "    #in order to not have problems when there's just one obstacle right in front of Thymio\n",
    "    if (abs(obst[0]-obst[1])<Tres):\n",
    "        if obst[3]>obst[4]:\n",
    "            speed_r = 0\n",
    "            speed_l = speed_l + obstSpeedGain * int(0.5*obst[2]//100 + 0.5*obst[3]//100)\n",
    "        else:\n",
    "            speed_l = 0\n",
    "            speed_r = speed_r + obstSpeedGain * int(0.5*obst[2]//100 + 0.5*obst[4]//100)\n",
    "\n",
    "    \n",
    "    #if both sides are bloqued --> wait\n",
    "    if((right_obstacle)and(left_obstacle)):\n",
    "        light_em_up(wait=1)\n",
    "    #otherwise avoid the object:    \n",
    "    else:\n",
    "        light_em_up(wait=0)\n",
    "        \n",
    "    #in order to have a nice turn even if the side object is far away\n",
    "    if right_obstacle:\n",
    "        speed_l = 0\n",
    "    if left_obstacle:\n",
    "        speed_r = 0\n",
    "\n",
    "    \n",
    "    #If Thymio avoided the obstacle \n",
    "    if(obst[2]<Tres_low):\n",
    "        if (obst[0]<Tres_side_low):\n",
    "            if (obst[1]<Tres_side_low):\n",
    "                light_em_up(avoid=0)\n",
    "                return False\n",
    "    else:\n",
    "        if (speed_l > speed_r + Tres):\n",
    "            speed_r = 0\n",
    "        elif(speed_r > speed_l + Tres):\n",
    "            speed_l = 0\n",
    "\n",
    "    print(speed_l, speed_r)\n",
    "    light_em_up(avoid=1)\n",
    "    motors(speed_l,speed_r)\n",
    "    return True\n",
    "    \n",
    "    #to do the counter later!"
   ]
  },
  {
   "cell_type": "markdown",
   "metadata": {},
   "source": [
    "### Ideas about how to implement"
   ]
  },
  {
   "cell_type": "code",
   "execution_count": 12,
   "metadata": {},
   "outputs": [],
   "source": [
    "async def control():\n",
    "    global run #bool\n",
    "    \n",
    "    while True:\n",
    "        if run:\n",
    "            run = avoid_obstacle()\n",
    "        else:\n",
    "            run = check_cars()\n",
    "            motors(100,100)\n",
    "        sleep(0.5)"
   ]
  },
  {
   "cell_type": "code",
   "execution_count": null,
   "metadata": {},
   "outputs": [
    {
     "name": "stdout",
     "output_type": "stream",
     "text": [
      "185 0\n",
      "220 0\n",
      "235 0\n",
      "175 0\n",
      "0 200\n",
      "0 220\n",
      "295 0\n",
      "0 220\n",
      "0 170\n",
      "0 275\n",
      "0 300\n",
      "0 185\n",
      "0 200\n",
      "0 210\n",
      "0 220\n",
      "0 200\n",
      "190 0\n",
      "210 0\n",
      "255 0\n",
      "165 0\n",
      "205 0\n",
      "0 0\n",
      "0 0\n",
      "0 0\n",
      "0 0\n",
      "0 0\n",
      "0 0\n",
      "0 0\n",
      "0 210\n",
      "0 0\n",
      "235 0\n",
      "210 0\n"
     ]
    }
   ],
   "source": [
    "\n",
    "light_em_up()\n",
    "    \n",
    "await control()\n",
    "    "
   ]
  },
  {
   "cell_type": "code",
   "execution_count": null,
   "metadata": {},
   "outputs": [],
   "source": [
    "motors(0,0)"
   ]
  }
 ],
 "metadata": {
  "hide_input": false,
  "kernelspec": {
   "display_name": "Python 3 (ipykernel)",
   "language": "python",
   "name": "python3"
  },
  "language_info": {
   "codemirror_mode": {
    "name": "ipython",
    "version": 3
   },
   "file_extension": ".py",
   "mimetype": "text/x-python",
   "name": "python",
   "nbconvert_exporter": "python",
   "pygments_lexer": "ipython3",
   "version": "3.8.8"
  },
  "toc": {
   "base_numbering": 1,
   "nav_menu": {},
   "number_sections": true,
   "sideBar": true,
   "skip_h1_title": false,
   "title_cell": "Table of Contents",
   "title_sidebar": "Contents",
   "toc_cell": true,
   "toc_position": {
    "height": "calc(100% - 180px)",
    "left": "10px",
    "top": "150px",
    "width": "165px"
   },
   "toc_section_display": true,
   "toc_window_display": false
  }
 },
 "nbformat": 4,
 "nbformat_minor": 2
}
