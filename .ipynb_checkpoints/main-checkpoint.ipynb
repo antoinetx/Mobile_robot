{
 "cells": [
  {
   "cell_type": "markdown",
   "metadata": {},
   "source": [
    "The next cell import all the libraries and the other folder that we will need"
   ]
  },
  {
   "cell_type": "code",
   "execution_count": 1,
   "metadata": {},
   "outputs": [],
   "source": [
    "import math\n",
    "import numpy as np\n",
    "import matplotlib.pyplot as plt\n",
    "from numpy.core.fromnumeric import size\n",
    "from matplotlib import colors\n",
    "from asgiref.sync import sync_to_async #in order to load variables to communicate between sync and async\n",
    "\n",
    "import optimal_path as op\n",
    "\n",
    "from robot import Robot\n",
    "from Map import Map\n"
   ]
  },
  {
   "cell_type": "markdown",
   "metadata": {},
   "source": [
    "initialize the initial grid and position"
   ]
  },
  {
   "cell_type": "code",
   "execution_count": null,
   "metadata": {},
   "outputs": [],
   "source": [
    "#start , goal , grid = \"init_map\"\n",
    "start_pos = (0,0)\n",
    "goal = (43,33)\n",
    "map_lenght = 5\n",
    "nb_of_square_by_side = 50"
   ]
  },
  {
   "cell_type": "markdown",
   "metadata": {},
   "source": [
    "Next cell is to create an instance Robot and Map \n",
    "  "
   ]
  },
  {
   "cell_type": "code",
   "execution_count": null,
   "metadata": {},
   "outputs": [],
   "source": [
    "George = Robot(start_pos, goal)\n",
    "Lausanne = Map(map_lenght, nb_of_square_by_side)"
   ]
  },
  {
   "cell_type": "markdown",
   "metadata": {},
   "source": [
    "Global control \n",
    "\n",
    "--> Optimal path calculation"
   ]
  },
  {
   "cell_type": "code",
   "execution_count": null,
   "metadata": {},
   "outputs": [],
   "source": [
    "# Compute the optimal path and visited nodes\n",
    "path, visitedNodes = op.path_computation(George.get_start() , George.get_goal() , Lausanne.get_lenght(), Lausanne.get_map())\n",
    "\n",
    "George.set_path(path) \n",
    "George.set_visit_nodes(visitedNodes) \n",
    "\n",
    "# Display the optimal path\n",
    "op.display_map(Lausanne.get_lenght(),  Lausanne.get_map(),  George.get_visit_nodes(), George.get_path(), George.get_start(), George.get_goal())\n"
   ]
  },
  {
   "cell_type": "markdown",
   "metadata": {},
   "source": [
    "start threads"
   ]
  },
  {
   "cell_type": "code",
   "execution_count": null,
   "metadata": {},
   "outputs": [],
   "source": [
    "# Threads de l'acquisition d'image et filtre Kalman --> C'est l'ordi qui envoit ça.\n",
    "# Met à jour la position du robot\n",
    "# Affiche sur ordi la map analisée\n",
    "\n",
    "# Thread pour les roues? --> implique class motors"
   ]
  },
  {
   "cell_type": "markdown",
   "metadata": {},
   "source": [
    "Main loop"
   ]
  },
  {
   "cell_type": "code",
   "execution_count": null,
   "metadata": {},
   "outputs": [],
   "source": [
    "while (George.get_pos() != George.get_goal()):\n",
    "    \n",
    "    \"\"\"\n",
    "    # Path calculation?\n",
    "    Geroge.set_current(op.path_update(George.get_pos(), George.get_err_pos(), George.get_path(), George.get_current())) # Update the \"local\" goal\n",
    "    current_goal = George.get_path()(Geroge.get_current())\n",
    "    obstacle = check_opstacle() # Booleen\n",
    "    if(obstacle):\n",
    "        manoeuvre_devitement\n",
    "    else : \n",
    "        go_forward_to_the_local_goal(George.get_angle(), George.getpos(), current_goal)\n",
    "    \"\"\"\n",
    "\n",
    "#led_arrivé"
   ]
  }
 ],
 "metadata": {
  "interpreter": {
   "hash": "aee8b7b246df8f9039afb4144a1f6fd8d2ca17a180786b69acc140d282b71a49"
  },
  "kernelspec": {
   "display_name": "Python 3 (ipykernel)",
   "language": "python",
   "name": "python3"
  },
  "language_info": {
   "codemirror_mode": {
    "name": "ipython",
    "version": 3
   },
   "file_extension": ".py",
   "mimetype": "text/x-python",
   "name": "python",
   "nbconvert_exporter": "python",
   "pygments_lexer": "ipython3",
   "version": "3.8.8"
  }
 },
 "nbformat": 4,
 "nbformat_minor": 2
}
