{
 "cells": [
  {
   "cell_type": "code",
   "execution_count": 6,
   "id": "ec5c1861",
   "metadata": {},
   "outputs": [],
   "source": [
    "import math\n",
    "import cv2\n",
    "import numpy as np\n",
    "import matplotlib.pyplot as plt\n",
    "from matplotlib import colors\n",
    "from Detector import detect_inrange, detect_center\n",
    "\n",
    "\n",
    "\n",
    "%matplotlib inline"
   ]
  },
  {
   "cell_type": "code",
   "execution_count": 7,
   "id": "9a0d158e",
   "metadata": {},
   "outputs": [],
   "source": [
    "def create_empty_plot(max_val):\n",
    "    \"\"\"\n",
    "    Helper function to create a figure of the desired dimensions & grid\n",
    "    \n",
    "    :param max_val: dimension of the map along the x and y dimensions\n",
    "    :return: the fig and ax objects.\n",
    "    \"\"\"\n",
    "    fig, ax = plt.subplots(figsize=(7,7))\n",
    "    \n",
    "    major_ticks = np.arange(0, max_val+1, 5)\n",
    "    minor_ticks = np.arange(0, max_val+1, 1)\n",
    "    ax.set_xticks(major_ticks)\n",
    "    ax.set_xticks(minor_ticks, minor=True)\n",
    "    ax.set_yticks(major_ticks)\n",
    "    ax.set_yticks(minor_ticks, minor=True)\n",
    "    ax.grid(which='minor', alpha=0.2)\n",
    "    ax.grid(which='major', alpha=0.5)\n",
    "    ax.set_ylim([-1,max_val])\n",
    "    ax.set_xlim([-1,max_val])\n",
    "    ax.grid(True)\n",
    "    \n",
    "    return fig, ax"
   ]
  },
  {
   "cell_type": "code",
   "execution_count": 10,
   "id": "78bd6375",
   "metadata": {},
   "outputs": [],
   "source": [
    "def main():\n",
    "    VideoCap=cv2.VideoCapture(0)\n",
    "\n",
    "    ret, frame=VideoCap.read()\n",
    "    \n",
    "    reduction = 10\n",
    "\n",
    "    x_max = int(480)\n",
    "    y_max = int(640)\n",
    "    blue = 120\n",
    "\n",
    "    while(True):\n",
    "\n",
    "        ret, frame=VideoCap.read()\n",
    "        \n",
    "        points, mask, contours=detect_inrange(frame, 800, blue)\n",
    "        \n",
    "        center_points, center_contours = detect_center(frame, contours)\n",
    "        \n",
    "        map = np.zeros((480, 640))\n",
    "        \n",
    "        for i in center_points:\n",
    "            cv2.circle(frame, (i[0], i[1]), 7, (0, 0, 255), -1)\n",
    "            cv2.putText(frame, \"center\", (i[0] - 20, i[0] - 20),\n",
    "                    cv2.FONT_HERSHEY_SIMPLEX, 0.5, (0, 0, 0), 2)\n",
    "        \n",
    "\n",
    "        cv2.imshow('image', frame)\n",
    "        \n",
    "        if (len(points)>0):\n",
    "            cv2.circle(frame, (points[0][0], points[0][1]), 10, (0, 0, 255), 2)\n",
    "\n",
    "\n",
    "        if (len(points)>0):\n",
    "            for i in range(len(points)):\n",
    "                map[ points[i][0], points[i][1] ] = 1\n",
    "\n",
    "\n",
    "\n",
    "        occupancy_grid=np.zeros((round(x_max/reduction),round(y_max/reduction)))\n",
    "\n",
    "\n",
    "        for x in range(int(round(x_max)-1)):\n",
    "            for y in range(int(round(y_max)-1)):\n",
    "                # For each pixel, obstacle if color is white (255)\n",
    "                if map[x,y] == 1:\n",
    "                    occupancy_grid[int(x/reduction),int(y/reduction)]=1\n",
    "\n",
    "                    for v in range(int(x/reduction),int(x/reduction +10)-1):\n",
    "                        for w in range(int(y/reduction),int(y/reduction +10)-1):\n",
    "                            occupancy_grid[int(v-5),int(w-5)]=1             \n",
    "\n",
    "                            \n",
    "        row = np.ones((16,64))\n",
    "        occupancy_grid = np.vstack((occupancy_grid, row))\n",
    "   \n",
    "\n",
    "        map = occupancy_grid\n",
    "\n",
    "    VideoCap.release()\n",
    "    cv2.destroyAllWindows()\n",
    "        \n",
    "        "
   ]
  },
  {
   "cell_type": "code",
   "execution_count": 11,
   "id": "f971e994",
   "metadata": {},
   "outputs": [
    {
     "ename": "IndexError",
     "evalue": "index 48 is out of bounds for axis 0 with size 48",
     "output_type": "error",
     "traceback": [
      "\u001b[1;31m---------------------------------------------------------------------------\u001b[0m",
      "\u001b[1;31mIndexError\u001b[0m                                Traceback (most recent call last)",
      "\u001b[1;32m<ipython-input-11-263240bbee7e>\u001b[0m in \u001b[0;36m<module>\u001b[1;34m\u001b[0m\n\u001b[1;32m----> 1\u001b[1;33m \u001b[0mmain\u001b[0m\u001b[1;33m(\u001b[0m\u001b[1;33m)\u001b[0m\u001b[1;33m\u001b[0m\u001b[1;33m\u001b[0m\u001b[0m\n\u001b[0m",
      "\u001b[1;32m<ipython-input-10-1bbef3e8f3aa>\u001b[0m in \u001b[0;36mmain\u001b[1;34m()\u001b[0m\n\u001b[0;32m     49\u001b[0m                     \u001b[1;32mfor\u001b[0m \u001b[0mv\u001b[0m \u001b[1;32min\u001b[0m \u001b[0mrange\u001b[0m\u001b[1;33m(\u001b[0m\u001b[0mint\u001b[0m\u001b[1;33m(\u001b[0m\u001b[0mx\u001b[0m\u001b[1;33m/\u001b[0m\u001b[0mreduction\u001b[0m\u001b[1;33m)\u001b[0m\u001b[1;33m,\u001b[0m\u001b[0mint\u001b[0m\u001b[1;33m(\u001b[0m\u001b[0mx\u001b[0m\u001b[1;33m/\u001b[0m\u001b[0mreduction\u001b[0m \u001b[1;33m+\u001b[0m\u001b[1;36m10\u001b[0m\u001b[1;33m)\u001b[0m\u001b[1;33m)\u001b[0m\u001b[1;33m:\u001b[0m\u001b[1;33m\u001b[0m\u001b[1;33m\u001b[0m\u001b[0m\n\u001b[0;32m     50\u001b[0m                         \u001b[1;32mfor\u001b[0m \u001b[0mw\u001b[0m \u001b[1;32min\u001b[0m \u001b[0mrange\u001b[0m\u001b[1;33m(\u001b[0m\u001b[0mint\u001b[0m\u001b[1;33m(\u001b[0m\u001b[0my\u001b[0m\u001b[1;33m/\u001b[0m\u001b[0mreduction\u001b[0m\u001b[1;33m)\u001b[0m\u001b[1;33m,\u001b[0m\u001b[0mint\u001b[0m\u001b[1;33m(\u001b[0m\u001b[0my\u001b[0m\u001b[1;33m/\u001b[0m\u001b[0mreduction\u001b[0m \u001b[1;33m+\u001b[0m\u001b[1;36m10\u001b[0m\u001b[1;33m)\u001b[0m\u001b[1;33m)\u001b[0m\u001b[1;33m:\u001b[0m\u001b[1;33m\u001b[0m\u001b[1;33m\u001b[0m\u001b[0m\n\u001b[1;32m---> 51\u001b[1;33m                             \u001b[0moccupancy_grid\u001b[0m\u001b[1;33m[\u001b[0m\u001b[0mint\u001b[0m\u001b[1;33m(\u001b[0m\u001b[0mv\u001b[0m\u001b[1;33m-\u001b[0m\u001b[1;36m5\u001b[0m\u001b[1;33m)\u001b[0m\u001b[1;33m,\u001b[0m\u001b[0mint\u001b[0m\u001b[1;33m(\u001b[0m\u001b[0mw\u001b[0m\u001b[1;33m-\u001b[0m\u001b[1;36m5\u001b[0m\u001b[1;33m)\u001b[0m\u001b[1;33m]\u001b[0m\u001b[1;33m=\u001b[0m\u001b[1;36m1\u001b[0m\u001b[1;33m\u001b[0m\u001b[1;33m\u001b[0m\u001b[0m\n\u001b[0m\u001b[0;32m     52\u001b[0m \u001b[1;33m\u001b[0m\u001b[0m\n\u001b[0;32m     53\u001b[0m \u001b[1;33m\u001b[0m\u001b[0m\n",
      "\u001b[1;31mIndexError\u001b[0m: index 48 is out of bounds for axis 0 with size 48"
     ]
    }
   ],
   "source": [
    "main()"
   ]
  },
  {
   "cell_type": "code",
   "execution_count": 4,
   "id": "daec6964",
   "metadata": {},
   "outputs": [
    {
     "name": "stdout",
     "output_type": "stream",
     "text": [
      "hello\n",
      "hello bis\n",
      "hello tier\n",
      "(480, 640, 3)\n",
      "frame shape\n",
      "hello1\n",
      "hello2\n",
      "hello3\n",
      "passe\n"
     ]
    },
    {
     "ename": "AttributeError",
     "evalue": "'NoneType' object has no attribute 'shape'",
     "output_type": "error",
     "traceback": [
      "\u001b[1;31m---------------------------------------------------------------------------\u001b[0m",
      "\u001b[1;31mAttributeError\u001b[0m                            Traceback (most recent call last)",
      "\u001b[1;32m<ipython-input-4-fc2a54a0133c>\u001b[0m in \u001b[0;36m<module>\u001b[1;34m\u001b[0m\n\u001b[0;32m     11\u001b[0m \u001b[0moccupancy_grid\u001b[0m \u001b[1;33m=\u001b[0m \u001b[0mget\u001b[0m\u001b[1;33m(\u001b[0m\u001b[1;33m)\u001b[0m\u001b[1;33m\u001b[0m\u001b[1;33m\u001b[0m\u001b[0m\n\u001b[0;32m     12\u001b[0m \u001b[0mprint\u001b[0m\u001b[1;33m(\u001b[0m\u001b[1;34m'passe'\u001b[0m\u001b[1;33m)\u001b[0m\u001b[1;33m\u001b[0m\u001b[1;33m\u001b[0m\u001b[0m\n\u001b[1;32m---> 13\u001b[1;33m \u001b[0mprint\u001b[0m\u001b[1;33m(\u001b[0m\u001b[0moccupancy_grid\u001b[0m\u001b[1;33m.\u001b[0m\u001b[0mshape\u001b[0m\u001b[1;33m)\u001b[0m\u001b[1;33m\u001b[0m\u001b[1;33m\u001b[0m\u001b[0m\n\u001b[0m\u001b[0;32m     14\u001b[0m \u001b[1;33m\u001b[0m\u001b[0m\n\u001b[0;32m     15\u001b[0m \u001b[1;31m# Displaying the map\u001b[0m\u001b[1;33m\u001b[0m\u001b[1;33m\u001b[0m\u001b[1;33m\u001b[0m\u001b[0m\n",
      "\u001b[1;31mAttributeError\u001b[0m: 'NoneType' object has no attribute 'shape'"
     ]
    },
    {
     "data": {
      "image/png": "[encoded data removed]",
      "text/plain": [
       "<Figure size 504x504 with 1 Axes>"
      ]
     },
     "metadata": {
      "needs_background": "light"
     },
     "output_type": "display_data"
    }
   ],
   "source": [
    "#Creating the grid\n",
    "max_val = 64 # Size of the map\n",
    "\n",
    "fig, ax = create_empty_plot(max_val)\n",
    "\n",
    "# Creating the occupancy grid\n",
    "cmap = colors.ListedColormap(['white', 'red']) # Select the colors with which to display obstacles and free cells\n",
    "\n",
    "# Converting the random values into occupied and free cells\n",
    "\n",
    "occupancy_grid = get()\n",
    "print('passe')\n",
    "print(occupancy_grid.shape)\n",
    "\n",
    "# Displaying the map\n",
    "ax.imshow(occupancy_grid.transpose(), cmap=cmap)\n",
    "plt.title(\"Map : free cells in white, occupied cells in red\");"
   ]
  },
  {
   "cell_type": "code",
   "execution_count": null,
   "id": "a6b062de",
   "metadata": {},
   "outputs": [],
   "source": []
  }
 ],
 "metadata": {
  "kernelspec": {
   "display_name": "Python 3",
   "language": "python",
   "name": "python3"
  },
  "language_info": {
   "codemirror_mode": {
    "name": "ipython",
    "version": 3
   },
   "file_extension": ".py",
   "mimetype": "text/x-python",
   "name": "python",
   "nbconvert_exporter": "python",
   "pygments_lexer": "ipython3",
   "version": "3.8.8"
  }
 },
 "nbformat": 4,
 "nbformat_minor": 5
}
