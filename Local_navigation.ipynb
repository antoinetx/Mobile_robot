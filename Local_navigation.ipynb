{
 "cells": [
  {
   "cell_type": "markdown",
   "metadata": {},
   "source": [
    "Connecting to Thymio"
   ]
  },
  {
   "cell_type": "code",
   "execution_count": 2,
   "metadata": {},
   "outputs": [],
   "source": [
    "import tdmclient.notebook\n",
    "await tdmclient.notebook.start()"
   ]
  },
  {
   "cell_type": "markdown",
   "metadata": {},
   "source": [
    "In order to use sync_to_async"
   ]
  },
  {
   "cell_type": "code",
   "execution_count": 3,
   "metadata": {},
   "outputs": [],
   "source": [
    "from asgiref.sync import sync_to_async"
   ]
  },
  {
   "cell_type": "markdown",
   "metadata": {},
   "source": [
    "In order to do the tests:"
   ]
  },
  {
   "cell_type": "code",
   "execution_count": 4,
   "metadata": {},
   "outputs": [],
   "source": [
    "test_functions = True"
   ]
  },
  {
   "cell_type": "markdown",
   "metadata": {},
   "source": [
    "# Functions in order to test the local avoidance"
   ]
  },
  {
   "cell_type": "code",
   "execution_count": 5,
   "metadata": {},
   "outputs": [],
   "source": [
    "@tdmclient.notebook.sync_var\n",
    "def motors(l_speed=500, r_speed=500, verbose=False):\n",
    "    \"\"\"\n",
    "    Sets the motor speeds of the Thymio \n",
    "    param l_speed: left motor speed\n",
    "    param r_speed: right motor speed\n",
    "    param verbose: whether to print status messages or not\n",
    "    \"\"\"\n",
    "    global motor_left_target, motor_right_target\n",
    "    # Printing the speeds if requested\n",
    "    if verbose:\n",
    "        print(\"\\t\\t Setting speed : \", l_speed, r_speed)\n",
    "    motor_left_target = l_speed\n",
    "    motor_right_target = r_speed\n",
    "\n",
    "if test_functions:\n",
    "    motors(100, 100) #test with lower speed value\n",
    "    sleep(2)\n",
    "    motors(0, 0)"
   ]
  },
  {
   "cell_type": "markdown",
   "metadata": {},
   "source": [
    "# Local Navigation"
   ]
  },
  {
   "cell_type": "markdown",
   "metadata": {},
   "source": [
    "### Global variables and constants"
   ]
  },
  {
   "cell_type": "code",
   "execution_count": 6,
   "metadata": {},
   "outputs": [],
   "source": [
    "LED = 32\n",
    "SMALL_LED = 2\n",
    "\n",
    "left_obstacle = False\n",
    "right_obstacle = False\n",
    "Bloqued = False\n",
    "side = 2 #0 : Thymio turned left / 1: Thymio turned right\n"
   ]
  },
  {
   "cell_type": "code",
   "execution_count": 7,
   "metadata": {},
   "outputs": [],
   "source": [
    "@tdmclient.notebook.sync_var\n",
    "def light_em_up(left=0,right=0,wait=0):\n",
    "    global leds_top, leds_buttons, leds_circle\n",
    "    leds_top = [0,LED,LED]\n",
    "    if(wait):\n",
    "        leds_circle = [SMALL_LED, SMALL_LED, LED, SMALL_LED, SMALL_LED, SMALL_LED, LED, SMALL_LED]\n",
    "    else:\n",
    "        leds_circle = [0, 0, 0, 0, 0, 0, 0, 0]\n",
    "        "
   ]
  },
  {
   "cell_type": "markdown",
   "metadata": {},
   "source": [
    "### Check cars\n",
    "This function will check if there's something in front of Thymio. If there's, it will return **TRUE** and take the control of the Thymio. If there's nothing, it will return **FALSE** and let the control to optimal path"
   ]
  },
  {
   "cell_type": "code",
   "execution_count": 8,
   "metadata": {},
   "outputs": [],
   "source": [
    "@tdmclient.notebook.sync_var\n",
    "def check_cars(state=1, Tres_high=800, Tres_mid_side_high=1500, Tres_low=1500, Tres_mid_side_low=1000):\n",
    "    global prox_horizontal\n",
    "\n",
    " \n",
    "    if((prox_horizontal[2]>Tres_high)or(prox_horizontal[1]>Tres_mid_side_high)or(prox_horizontal[3]>Tres_mid_side_high)):\n",
    "        return True        \n",
    "    #There's something in front of Thymio --> avoid_function take the control\n",
    "    else:\n",
    "        return False\n",
    "    #There's nothting, Thymio continue its normal ways "
   ]
  },
  {
   "cell_type": "code",
   "execution_count": 9,
   "metadata": {},
   "outputs": [
    {
     "name": "stdout",
     "output_type": "stream",
     "text": [
      "True\n",
      "True\n",
      "True\n",
      "True\n",
      "True\n",
      "False\n",
      "False\n",
      "False\n",
      "False\n",
      "False\n",
      "False\n"
     ]
    }
   ],
   "source": [
    "if(test_functions):\n",
    "    t = True\n",
    "    i = 0\n",
    "    while(t):\n",
    "        print(check_cars())\n",
    "        sleep(1)\n",
    "        i = i+1\n",
    "        if i>10:\n",
    "            t = False"
   ]
  },
  {
   "cell_type": "markdown",
   "metadata": {},
   "source": [
    "### Avoid function\n",
    "This function will check to the left/right if there's a \"Thymio-car\" so our Thymio can avoid the car in front of it. If there's a \"Thymio-car\" in front of it and on its left/right, our Thymio will wait until the way to the left/right is free again.\n",
    "\n",
    "**We call this function when check_cars() = True otherwise we call the logical path**"
   ]
  },
  {
   "cell_type": "code",
   "execution_count": 25,
   "metadata": {},
   "outputs": [],
   "source": [
    "async def avoid_obstacle_2(Tres_side_high=1000, Tres_side_low=800, counter=9999):\n",
    "    global left_obstacle, right_obstacle, prox_horizontal, Bloqued, leds_circle, side\n",
    "    speed0 = 100       # nominal speed\n",
    "    obstSpeedGain = 20  # /100 (actual gain: 5/100=0.05)\n",
    "    \n",
    "    # acquisition from the proximity sensors to detect obstacles\n",
    "    obst = [prox_horizontal[0], prox_horizontal[4]]\n",
    "    \n",
    "    #check left\n",
    "    if(obst[0]>Tres_side_high):\n",
    "        left_obstacle = True\n",
    "    elif(obst[0]<Tres_side_low):\n",
    "        left_obstacle = False\n",
    "        \n",
    "    #check right\n",
    "    if(obst[1]>Tres_side_high):\n",
    "        right_obstacle = True\n",
    "    elif(obst[1]<Tres_side_low):\n",
    "        right_obstacle = False\n",
    "    \n",
    "    #if both sides are bloqued --> wait\n",
    "    if((right_obstacle)and(left_obstacle)):\n",
    "        await sync_to_async(light_em_up)(0,0,1)\n",
    "        Bloqued = True\n",
    "    #otherwise avoid the object:    \n",
    "    else:\n",
    "        await sync_to_async(light_em_up)(0,0,0)\n",
    "        Bloqued = False\n",
    "        \n",
    "    speed_l = speed0 + obstSpeedGain * (obst[0] // 100)\n",
    "    speed_r = speed0 + obstSpeedGain * (obst[1] // 100)\n",
    "    \n",
    "    if(left_obstacle):\n",
    "        speed_r = 0\n",
    "    if(right_obstacle):\n",
    "        speed_l = 0\n",
    "    if not (left_obstacle*right_obstacle):\n",
    "        if (speed_l > speed_r):\n",
    "            speed_r = 0\n",
    "        else:\n",
    "            speed_l = 0\n",
    "        \n",
    "    motors(speed_l,speed_r)\n",
    "    \n",
    "    #If Thymio is turning right\n",
    "    if(side==1):\n",
    "        #If there's no more obstacle to the left --> go back to your path!\n",
    "        if(obst[0]<Tres_side_low):\n",
    "            side = 2\n",
    "            return True\n",
    "    #If Thymio is turning right    \n",
    "    elif(side==0):\n",
    "        #If there's no more obstacle to the left --> go back to your path!\n",
    "        if(obst[2]<Tres_side_low):\n",
    "            side = 2\n",
    "            return True        \n",
    "    \n",
    "    #to do the counter later!"
   ]
  },
  {
   "cell_type": "code",
   "execution_count": 24,
   "metadata": {},
   "outputs": [],
   "source": [
    "async def avoid_obstacle(Tres_side_high=1000, Tres_side_low=800, counter=9999):\n",
    "    global left_obstacle, right_obstacle, prox_horizontal, Bloqued, leds_circle, side\n",
    "    speed0 = 100       # nominal speed\n",
    "    obstSpeedGain = 20  # /100 (actual gain: 5/100=0.05)\n",
    "    \n",
    "    # acquisition from the proximity sensors to detect obstacles\n",
    "    obst = [prox_horizontal[0], prox_horizontal[4]]\n",
    "    \n",
    "    #check left (in order to know if Thymio is bloqued)\n",
    "    if(obst[0]>Tres_side_high):\n",
    "        left_obstacle = True\n",
    "    elif(obst[0]<Tres_side_low):\n",
    "        left_obstacle = False\n",
    "        \n",
    "    #check right (in order to know if Thymio is bloqued)\n",
    "    if(obst[1]>Tres_side_high):\n",
    "        right_obstacle = True\n",
    "    elif(obst[1]<Tres_side_low):\n",
    "        right_obstacle = False\n",
    "    \n",
    "    #if both sides are bloqued --> wait\n",
    "    if((right_obstacle)and(left_obstacle)):\n",
    "        await sync_to_async(light_em_up)(0,0,1)\n",
    "        Bloqued = True\n",
    "    #otherwise avoid the object:    \n",
    "    else:\n",
    "        await sync_to_async(light_em_up)(0,0,0)\n",
    "        Bloqued = False\n",
    "        \n",
    "    speed_l = speed0 + obstSpeedGain * (obst[0] // 100)\n",
    "    speed_r = speed0 + obstSpeedGain * (obst[1] // 100)\n",
    "    \n",
    "\n",
    "    if (speed_l > speed_r):\n",
    "        speed_r = 0\n",
    "    else:\n",
    "        speed_l = 0\n",
    "        \n",
    "    motors(speed_l,speed_r)\n",
    "    \n",
    "    #If Thymio is turning right\n",
    "    if(side==1):\n",
    "        #If there's no more obstacle to the left --> go back to your path!\n",
    "        if(obst[0]<Tres_side_low):\n",
    "            side = 2\n",
    "            return True\n",
    "    #If Thymio is turning right    \n",
    "    elif(side==0):\n",
    "        #If there's no more obstacle to the left --> go back to your path!\n",
    "        if(obst[2]<Tres_side_low):\n",
    "            side = 2\n",
    "            return True        \n",
    "    \n",
    "    #to do the counter later!"
   ]
  },
  {
   "cell_type": "code",
   "execution_count": 21,
   "metadata": {},
   "outputs": [],
   "source": [
    "async def control():\n",
    "    while True:\n",
    "        if(check_cars()):\n",
    "            await avoid_obstacle()\n",
    "        else:\n",
    "            motors(100,100)\n",
    "        sleep(0.2)"
   ]
  },
  {
   "cell_type": "code",
   "execution_count": null,
   "metadata": {},
   "outputs": [],
   "source": [
    "if(test_functions):\n",
    "    light_em_up()\n",
    "    \n",
    "    await control()\n",
    "    "
   ]
  },
  {
   "cell_type": "code",
   "execution_count": null,
   "metadata": {},
   "outputs": [],
   "source": [
    "motors(0,0)"
   ]
  },
  {
   "cell_type": "code",
   "execution_count": null,
   "metadata": {},
   "outputs": [],
   "source": []
  }
 ],
 "metadata": {
  "hide_input": false,
  "kernelspec": {
   "display_name": "Python 3 (ipykernel)",
   "language": "python",
   "name": "python3"
  },
  "language_info": {
   "codemirror_mode": {
    "name": "ipython",
    "version": 3
   },
   "file_extension": ".py",
   "mimetype": "text/x-python",
   "name": "python",
   "nbconvert_exporter": "python",
   "pygments_lexer": "ipython3",
   "version": "3.8.8"
  },
  "toc": {
   "base_numbering": 1,
   "nav_menu": {},
   "number_sections": true,
   "sideBar": true,
   "skip_h1_title": false,
   "title_cell": "Table of Contents",
   "title_sidebar": "Contents",
   "toc_cell": true,
   "toc_position": {
    "height": "calc(100% - 180px)",
    "left": "10px",
    "top": "150px",
    "width": "165px"
   },
   "toc_section_display": true,
   "toc_window_display": false
  }
 },
 "nbformat": 4,
 "nbformat_minor": 2
}
